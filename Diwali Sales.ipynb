{
 "cells": [
  {
   "cell_type": "code",
   "execution_count": 66,
   "id": "668323c0",
   "metadata": {
    "executionInfo": {
     "elapsed": 1507,
     "status": "ok",
     "timestamp": 1652851668256,
     "user": {
      "displayName": "Aniketh H",
      "userId": "11737461681111421407"
     },
     "user_tz": -330
    },
    "id": "668323c0"
   },
   "outputs": [],
   "source": [
    "import numpy as np \n",
    "import pandas as pd \n",
    "import matplotlib.pyplot as plt\n",
    "import seaborn as sns\n",
    "import warnings\n",
    "warnings.filterwarnings('ignore')"
   ]
  },
  {
   "cell_type": "code",
   "execution_count": 67,
   "id": "6b70fb2f",
   "metadata": {
    "executionInfo": {
     "elapsed": 40,
     "status": "ok",
     "timestamp": 1652851668261,
     "user": {
      "displayName": "Aniketh H",
      "userId": "11737461681111421407"
     },
     "user_tz": -330
    },
    "id": "6b70fb2f"
   },
   "outputs": [],
   "source": [
    "df = pd.read_csv('diwali_sales.csv')"
   ]
  },
  {
   "cell_type": "code",
   "execution_count": 68,
   "id": "dcbb3305",
   "metadata": {
    "colab": {
     "base_uri": "https://localhost:8080/",
     "height": 288
    },
    "executionInfo": {
     "elapsed": 41,
     "status": "ok",
     "timestamp": 1652851668263,
     "user": {
      "displayName": "Aniketh H",
      "userId": "11737461681111421407"
     },
     "user_tz": -330
    },
    "id": "dcbb3305",
    "outputId": "082cfe14-4b75-4b39-ddab-2487047ee4ca"
   },
   "outputs": [
    {
     "data": {
      "text/html": [
       "<div>\n",
       "<style scoped>\n",
       "    .dataframe tbody tr th:only-of-type {\n",
       "        vertical-align: middle;\n",
       "    }\n",
       "\n",
       "    .dataframe tbody tr th {\n",
       "        vertical-align: top;\n",
       "    }\n",
       "\n",
       "    .dataframe thead th {\n",
       "        text-align: right;\n",
       "    }\n",
       "</style>\n",
       "<table border=\"1\" class=\"dataframe\">\n",
       "  <thead>\n",
       "    <tr style=\"text-align: right;\">\n",
       "      <th></th>\n",
       "      <th>sl_no</th>\n",
       "      <th>user_id</th>\n",
       "      <th>city</th>\n",
       "      <th>product_1\\nmysore_pak\\n(Kg)</th>\n",
       "      <th>product_2\\nsoan_ papdi\\n(Kg)</th>\n",
       "      <th>product_3\\nmotichoor\\n(Kg)</th>\n",
       "      <th>product_4\\nkaju_barfi\\n(Kg)</th>\n",
       "      <th>amont_1\\nmysore_pak</th>\n",
       "      <th>amount_2\\nsona_padi</th>\n",
       "      <th>amount_3\\nmotichoor</th>\n",
       "      <th>amount_4\\nkaju_barfi</th>\n",
       "      <th>total_amount</th>\n",
       "    </tr>\n",
       "  </thead>\n",
       "  <tbody>\n",
       "    <tr>\n",
       "      <th>0</th>\n",
       "      <td>1</td>\n",
       "      <td>10001</td>\n",
       "      <td>BENGALURU</td>\n",
       "      <td>0.1</td>\n",
       "      <td>1.5</td>\n",
       "      <td>0.0</td>\n",
       "      <td>0.0</td>\n",
       "      <td>70</td>\n",
       "      <td>1125</td>\n",
       "      <td>0</td>\n",
       "      <td>0</td>\n",
       "      <td>1195</td>\n",
       "    </tr>\n",
       "    <tr>\n",
       "      <th>1</th>\n",
       "      <td>2</td>\n",
       "      <td>10002</td>\n",
       "      <td>BENGALURU</td>\n",
       "      <td>1.5</td>\n",
       "      <td>0.0</td>\n",
       "      <td>1.5</td>\n",
       "      <td>2.5</td>\n",
       "      <td>1050</td>\n",
       "      <td>0</td>\n",
       "      <td>1200</td>\n",
       "      <td>3000</td>\n",
       "      <td>5250</td>\n",
       "    </tr>\n",
       "    <tr>\n",
       "      <th>2</th>\n",
       "      <td>3</td>\n",
       "      <td>10003</td>\n",
       "      <td>BENGALURU</td>\n",
       "      <td>0.0</td>\n",
       "      <td>0.0</td>\n",
       "      <td>0.2</td>\n",
       "      <td>0.0</td>\n",
       "      <td>0</td>\n",
       "      <td>0</td>\n",
       "      <td>160</td>\n",
       "      <td>0</td>\n",
       "      <td>160</td>\n",
       "    </tr>\n",
       "    <tr>\n",
       "      <th>3</th>\n",
       "      <td>4</td>\n",
       "      <td>10004</td>\n",
       "      <td>BENGALURU</td>\n",
       "      <td>2.0</td>\n",
       "      <td>0.0</td>\n",
       "      <td>0.2</td>\n",
       "      <td>0.0</td>\n",
       "      <td>1400</td>\n",
       "      <td>0</td>\n",
       "      <td>160</td>\n",
       "      <td>0</td>\n",
       "      <td>1560</td>\n",
       "    </tr>\n",
       "    <tr>\n",
       "      <th>4</th>\n",
       "      <td>5</td>\n",
       "      <td>10005</td>\n",
       "      <td>BENGALURU</td>\n",
       "      <td>0.0</td>\n",
       "      <td>0.5</td>\n",
       "      <td>1.0</td>\n",
       "      <td>0.0</td>\n",
       "      <td>0</td>\n",
       "      <td>375</td>\n",
       "      <td>800</td>\n",
       "      <td>0</td>\n",
       "      <td>1175</td>\n",
       "    </tr>\n",
       "  </tbody>\n",
       "</table>\n",
       "</div>"
      ],
      "text/plain": [
       "   sl_no  user_id       city  product_1\\nmysore_pak\\n(Kg)  \\\n",
       "0      1    10001  BENGALURU                          0.1   \n",
       "1      2    10002  BENGALURU                          1.5   \n",
       "2      3    10003  BENGALURU                          0.0   \n",
       "3      4    10004  BENGALURU                          2.0   \n",
       "4      5    10005  BENGALURU                          0.0   \n",
       "\n",
       "   product_2\\nsoan_ papdi\\n(Kg)  product_3\\nmotichoor\\n(Kg)  \\\n",
       "0                           1.5                         0.0   \n",
       "1                           0.0                         1.5   \n",
       "2                           0.0                         0.2   \n",
       "3                           0.0                         0.2   \n",
       "4                           0.5                         1.0   \n",
       "\n",
       "   product_4\\nkaju_barfi\\n(Kg)   amont_1\\nmysore_pak    amount_2\\nsona_padi   \\\n",
       "0                          0.0                     70                   1125   \n",
       "1                          2.5                   1050                      0   \n",
       "2                          0.0                      0                      0   \n",
       "3                          0.0                   1400                      0   \n",
       "4                          0.0                      0                    375   \n",
       "\n",
       "   amount_3\\nmotichoor   amount_4\\nkaju_barfi  total_amount  \n",
       "0                     0                     0          1195  \n",
       "1                  1200                  3000          5250  \n",
       "2                   160                     0           160  \n",
       "3                   160                     0          1560  \n",
       "4                   800                     0          1175  "
      ]
     },
     "execution_count": 68,
     "metadata": {},
     "output_type": "execute_result"
    }
   ],
   "source": [
    "df.head()"
   ]
  },
  {
   "cell_type": "code",
   "execution_count": 69,
   "id": "371fb05f",
   "metadata": {},
   "outputs": [
    {
     "data": {
      "text/html": [
       "<div>\n",
       "<style scoped>\n",
       "    .dataframe tbody tr th:only-of-type {\n",
       "        vertical-align: middle;\n",
       "    }\n",
       "\n",
       "    .dataframe tbody tr th {\n",
       "        vertical-align: top;\n",
       "    }\n",
       "\n",
       "    .dataframe thead th {\n",
       "        text-align: right;\n",
       "    }\n",
       "</style>\n",
       "<table border=\"1\" class=\"dataframe\">\n",
       "  <thead>\n",
       "    <tr style=\"text-align: right;\">\n",
       "      <th></th>\n",
       "      <th>sl_no</th>\n",
       "      <th>user_id</th>\n",
       "      <th>city</th>\n",
       "      <th>product_1\\nmysore_pak\\n(Kg)</th>\n",
       "      <th>product_2\\nsoan_ papdi\\n(Kg)</th>\n",
       "      <th>product_3\\nmotichoor\\n(Kg)</th>\n",
       "      <th>product_4\\nkaju_barfi\\n(Kg)</th>\n",
       "      <th>amont_1\\nmysore_pak</th>\n",
       "      <th>amount_2\\nsona_padi</th>\n",
       "      <th>amount_3\\nmotichoor</th>\n",
       "      <th>amount_4\\nkaju_barfi</th>\n",
       "      <th>total_amount</th>\n",
       "    </tr>\n",
       "  </thead>\n",
       "  <tbody>\n",
       "    <tr>\n",
       "      <th>5</th>\n",
       "      <td>6</td>\n",
       "      <td>10006</td>\n",
       "      <td>BENGALURU</td>\n",
       "      <td>1.0</td>\n",
       "      <td>1.0</td>\n",
       "      <td>1.0</td>\n",
       "      <td>1.0</td>\n",
       "      <td>700</td>\n",
       "      <td>750</td>\n",
       "      <td>800</td>\n",
       "      <td>1200</td>\n",
       "      <td>3450</td>\n",
       "    </tr>\n",
       "    <tr>\n",
       "      <th>13</th>\n",
       "      <td>14</td>\n",
       "      <td>10014</td>\n",
       "      <td>BENGALURU</td>\n",
       "      <td>1.0</td>\n",
       "      <td>2.0</td>\n",
       "      <td>0.0</td>\n",
       "      <td>1.0</td>\n",
       "      <td>700</td>\n",
       "      <td>1500</td>\n",
       "      <td>0</td>\n",
       "      <td>1200</td>\n",
       "      <td>3400</td>\n",
       "    </tr>\n",
       "    <tr>\n",
       "      <th>17</th>\n",
       "      <td>18</td>\n",
       "      <td>10018</td>\n",
       "      <td>BENGALURU</td>\n",
       "      <td>1.0</td>\n",
       "      <td>0.5</td>\n",
       "      <td>1.0</td>\n",
       "      <td>0.0</td>\n",
       "      <td>700</td>\n",
       "      <td>375</td>\n",
       "      <td>800</td>\n",
       "      <td>0</td>\n",
       "      <td>1875</td>\n",
       "    </tr>\n",
       "    <tr>\n",
       "      <th>26</th>\n",
       "      <td>27</td>\n",
       "      <td>10027</td>\n",
       "      <td>BENGALURU</td>\n",
       "      <td>1.0</td>\n",
       "      <td>0.0</td>\n",
       "      <td>0.0</td>\n",
       "      <td>0.2</td>\n",
       "      <td>700</td>\n",
       "      <td>0</td>\n",
       "      <td>0</td>\n",
       "      <td>240</td>\n",
       "      <td>940</td>\n",
       "    </tr>\n",
       "    <tr>\n",
       "      <th>31</th>\n",
       "      <td>32</td>\n",
       "      <td>10032</td>\n",
       "      <td>BENGALURU</td>\n",
       "      <td>1.0</td>\n",
       "      <td>4.0</td>\n",
       "      <td>0.0</td>\n",
       "      <td>0.0</td>\n",
       "      <td>700</td>\n",
       "      <td>3000</td>\n",
       "      <td>0</td>\n",
       "      <td>0</td>\n",
       "      <td>3700</td>\n",
       "    </tr>\n",
       "    <tr>\n",
       "      <th>...</th>\n",
       "      <td>...</td>\n",
       "      <td>...</td>\n",
       "      <td>...</td>\n",
       "      <td>...</td>\n",
       "      <td>...</td>\n",
       "      <td>...</td>\n",
       "      <td>...</td>\n",
       "      <td>...</td>\n",
       "      <td>...</td>\n",
       "      <td>...</td>\n",
       "      <td>...</td>\n",
       "      <td>...</td>\n",
       "    </tr>\n",
       "    <tr>\n",
       "      <th>967</th>\n",
       "      <td>968</td>\n",
       "      <td>40218</td>\n",
       "      <td>HUBLI</td>\n",
       "      <td>1.0</td>\n",
       "      <td>1.0</td>\n",
       "      <td>1.0</td>\n",
       "      <td>1.0</td>\n",
       "      <td>700</td>\n",
       "      <td>750</td>\n",
       "      <td>800</td>\n",
       "      <td>1200</td>\n",
       "      <td>3450</td>\n",
       "    </tr>\n",
       "    <tr>\n",
       "      <th>975</th>\n",
       "      <td>976</td>\n",
       "      <td>40226</td>\n",
       "      <td>HUBLI</td>\n",
       "      <td>1.0</td>\n",
       "      <td>1.0</td>\n",
       "      <td>1.0</td>\n",
       "      <td>1.0</td>\n",
       "      <td>700</td>\n",
       "      <td>750</td>\n",
       "      <td>800</td>\n",
       "      <td>1200</td>\n",
       "      <td>3450</td>\n",
       "    </tr>\n",
       "    <tr>\n",
       "      <th>979</th>\n",
       "      <td>980</td>\n",
       "      <td>40230</td>\n",
       "      <td>HUBLI</td>\n",
       "      <td>1.0</td>\n",
       "      <td>1.5</td>\n",
       "      <td>0.0</td>\n",
       "      <td>0.0</td>\n",
       "      <td>700</td>\n",
       "      <td>1125</td>\n",
       "      <td>0</td>\n",
       "      <td>0</td>\n",
       "      <td>1825</td>\n",
       "    </tr>\n",
       "    <tr>\n",
       "      <th>992</th>\n",
       "      <td>993</td>\n",
       "      <td>40243</td>\n",
       "      <td>HUBLI</td>\n",
       "      <td>1.0</td>\n",
       "      <td>0.0</td>\n",
       "      <td>2.0</td>\n",
       "      <td>0.0</td>\n",
       "      <td>700</td>\n",
       "      <td>0</td>\n",
       "      <td>1600</td>\n",
       "      <td>0</td>\n",
       "      <td>2300</td>\n",
       "    </tr>\n",
       "    <tr>\n",
       "      <th>996</th>\n",
       "      <td>997</td>\n",
       "      <td>40247</td>\n",
       "      <td>HUBLI</td>\n",
       "      <td>1.0</td>\n",
       "      <td>1.5</td>\n",
       "      <td>0.0</td>\n",
       "      <td>0.0</td>\n",
       "      <td>700</td>\n",
       "      <td>1125</td>\n",
       "      <td>0</td>\n",
       "      <td>0</td>\n",
       "      <td>1825</td>\n",
       "    </tr>\n",
       "  </tbody>\n",
       "</table>\n",
       "<p>218 rows × 12 columns</p>\n",
       "</div>"
      ],
      "text/plain": [
       "     sl_no  user_id       city  product_1\\nmysore_pak\\n(Kg)  \\\n",
       "5        6    10006  BENGALURU                          1.0   \n",
       "13      14    10014  BENGALURU                          1.0   \n",
       "17      18    10018  BENGALURU                          1.0   \n",
       "26      27    10027  BENGALURU                          1.0   \n",
       "31      32    10032  BENGALURU                          1.0   \n",
       "..     ...      ...        ...                          ...   \n",
       "967    968    40218      HUBLI                          1.0   \n",
       "975    976    40226      HUBLI                          1.0   \n",
       "979    980    40230      HUBLI                          1.0   \n",
       "992    993    40243      HUBLI                          1.0   \n",
       "996    997    40247      HUBLI                          1.0   \n",
       "\n",
       "     product_2\\nsoan_ papdi\\n(Kg)  product_3\\nmotichoor\\n(Kg)  \\\n",
       "5                             1.0                         1.0   \n",
       "13                            2.0                         0.0   \n",
       "17                            0.5                         1.0   \n",
       "26                            0.0                         0.0   \n",
       "31                            4.0                         0.0   \n",
       "..                            ...                         ...   \n",
       "967                           1.0                         1.0   \n",
       "975                           1.0                         1.0   \n",
       "979                           1.5                         0.0   \n",
       "992                           0.0                         2.0   \n",
       "996                           1.5                         0.0   \n",
       "\n",
       "     product_4\\nkaju_barfi\\n(Kg)   amont_1\\nmysore_pak   \\\n",
       "5                            1.0                    700   \n",
       "13                           1.0                    700   \n",
       "17                           0.0                    700   \n",
       "26                           0.2                    700   \n",
       "31                           0.0                    700   \n",
       "..                           ...                    ...   \n",
       "967                          1.0                    700   \n",
       "975                          1.0                    700   \n",
       "979                          0.0                    700   \n",
       "992                          0.0                    700   \n",
       "996                          0.0                    700   \n",
       "\n",
       "      amount_2\\nsona_padi   amount_3\\nmotichoor   amount_4\\nkaju_barfi  \\\n",
       "5                      750                   800                  1200   \n",
       "13                    1500                     0                  1200   \n",
       "17                     375                   800                     0   \n",
       "26                       0                     0                   240   \n",
       "31                    3000                     0                     0   \n",
       "..                     ...                   ...                   ...   \n",
       "967                    750                   800                  1200   \n",
       "975                    750                   800                  1200   \n",
       "979                   1125                     0                     0   \n",
       "992                      0                  1600                     0   \n",
       "996                   1125                     0                     0   \n",
       "\n",
       "     total_amount  \n",
       "5            3450  \n",
       "13           3400  \n",
       "17           1875  \n",
       "26            940  \n",
       "31           3700  \n",
       "..            ...  \n",
       "967          3450  \n",
       "975          3450  \n",
       "979          1825  \n",
       "992          2300  \n",
       "996          1825  \n",
       "\n",
       "[218 rows x 12 columns]"
      ]
     },
     "execution_count": 69,
     "metadata": {},
     "output_type": "execute_result"
    }
   ],
   "source": [
    "df[df['product_1\\nmysore_pak\\n(Kg)'] == 1.0]"
   ]
  },
  {
   "cell_type": "code",
   "execution_count": 70,
   "id": "9df85431",
   "metadata": {
    "colab": {
     "base_uri": "https://localhost:8080/"
    },
    "executionInfo": {
     "elapsed": 37,
     "status": "ok",
     "timestamp": 1652851668264,
     "user": {
      "displayName": "Aniketh H",
      "userId": "11737461681111421407"
     },
     "user_tz": -330
    },
    "id": "9df85431",
    "outputId": "c997c4cd-8864-41a6-9171-22a466a38067"
   },
   "outputs": [
    {
     "data": {
      "text/plain": [
       "(1000, 12)"
      ]
     },
     "execution_count": 70,
     "metadata": {},
     "output_type": "execute_result"
    }
   ],
   "source": [
    "df.shape\n"
   ]
  },
  {
   "cell_type": "code",
   "execution_count": 71,
   "id": "f5151df0",
   "metadata": {
    "colab": {
     "base_uri": "https://localhost:8080/"
    },
    "executionInfo": {
     "elapsed": 25,
     "status": "ok",
     "timestamp": 1652851668264,
     "user": {
      "displayName": "Aniketh H",
      "userId": "11737461681111421407"
     },
     "user_tz": -330
    },
    "id": "f5151df0",
    "outputId": "4666a0d9-70a6-41af-b586-d6c4a6a2f7a6"
   },
   "outputs": [
    {
     "data": {
      "text/plain": [
       "sl_no                           0\n",
       "user_id                         0\n",
       "city                            0\n",
       "product_1\\nmysore_pak\\n(Kg)     0\n",
       "product_2\\nsoan_ papdi\\n(Kg)    0\n",
       "product_3\\nmotichoor\\n(Kg)      0\n",
       "product_4\\nkaju_barfi\\n(Kg)     0\n",
       " amont_1\\nmysore_pak            0\n",
       " amount_2\\nsona_padi            0\n",
       "amount_3\\nmotichoor             0\n",
       "amount_4\\nkaju_barfi            0\n",
       "total_amount                    0\n",
       "dtype: int64"
      ]
     },
     "execution_count": 71,
     "metadata": {},
     "output_type": "execute_result"
    }
   ],
   "source": [
    "df.isnull().sum()"
   ]
  },
  {
   "cell_type": "code",
   "execution_count": 72,
   "id": "9bf633f0",
   "metadata": {
    "executionInfo": {
     "elapsed": 21,
     "status": "ok",
     "timestamp": 1652851668265,
     "user": {
      "displayName": "Aniketh H",
      "userId": "11737461681111421407"
     },
     "user_tz": -330
    },
    "id": "9bf633f0"
   },
   "outputs": [],
   "source": [
    "import seaborn as sns"
   ]
  },
  {
   "cell_type": "code",
   "execution_count": 73,
   "id": "a3bc1353",
   "metadata": {
    "colab": {
     "base_uri": "https://localhost:8080/",
     "height": 296
    },
    "executionInfo": {
     "elapsed": 1533,
     "status": "ok",
     "timestamp": 1652851669778,
     "user": {
      "displayName": "Aniketh H",
      "userId": "11737461681111421407"
     },
     "user_tz": -330
    },
    "id": "a3bc1353",
    "outputId": "f40ff1b5-01ae-4605-ebe7-bb0a774cd1cb"
   },
   "outputs": [
    {
     "data": {
      "text/plain": [
       "<Axes: xlabel='city', ylabel='count'>"
      ]
     },
     "execution_count": 73,
     "metadata": {},
     "output_type": "execute_result"
    },
    {
     "data": {
      "image/png": "[encoded data removed]",
      "text/plain": [
       "<Figure size 640x480 with 1 Axes>"
      ]
     },
     "metadata": {},
     "output_type": "display_data"
    }
   ],
   "source": [
    "sns.countplot(x='city',data = df)"
   ]
  },
  {
   "cell_type": "code",
   "execution_count": 74,
   "id": "23cb6406",
   "metadata": {
    "colab": {
     "base_uri": "https://localhost:8080/",
     "height": 376
    },
    "executionInfo": {
     "elapsed": 42,
     "status": "ok",
     "timestamp": 1652851669779,
     "user": {
      "displayName": "Aniketh H",
      "userId": "11737461681111421407"
     },
     "user_tz": -330
    },
    "id": "23cb6406",
    "outputId": "0f2d7e22-88f9-4a7f-b0cd-f6ea5b29fe08",
    "scrolled": true
   },
   "outputs": [
    {
     "data": {
      "text/plain": [
       "<Axes: xlabel='product_1\\nmysore_pak\\n(Kg)', ylabel='count'>"
      ]
     },
     "execution_count": 74,
     "metadata": {},
     "output_type": "execute_result"
    },
    {
     "data": {
      "image/png": "[encoded data removed]",
      "text/plain": [
       "<Figure size 640x480 with 1 Axes>"
      ]
     },
     "metadata": {},
     "output_type": "display_data"
    }
   ],
   "source": [
    "sns.countplot(x='product_1\\nmysore_pak\\n(Kg)', data=df)"
   ]
  },
  {
   "cell_type": "code",
   "execution_count": 75,
   "id": "441c2fb1",
   "metadata": {},
   "outputs": [
    {
     "data": {
      "text/plain": [
       "<Axes: xlabel='product_2\\nsoan_ papdi\\n(Kg)', ylabel='count'>"
      ]
     },
     "execution_count": 75,
     "metadata": {},
     "output_type": "execute_result"
    },
    {
     "data": {
      "image/png": "[encoded data removed]",
      "text/plain": [
       "<Figure size 640x480 with 1 Axes>"
      ]
     },
     "metadata": {},
     "output_type": "display_data"
    }
   ],
   "source": [
    "sns.countplot(x='product_2\\nsoan_ papdi\\n(Kg)', data=df)"
   ]
  },
  {
   "cell_type": "code",
   "execution_count": 76,
   "id": "bfebe91d",
   "metadata": {},
   "outputs": [
    {
     "data": {
      "text/plain": [
       "<Axes: xlabel='product_3\\nmotichoor\\n(Kg)', ylabel='count'>"
      ]
     },
     "execution_count": 76,
     "metadata": {},
     "output_type": "execute_result"
    },
    {
     "data": {
      "image/png": "[encoded data removed]",
      "text/plain": [
       "<Figure size 640x480 with 1 Axes>"
      ]
     },
     "metadata": {},
     "output_type": "display_data"
    }
   ],
   "source": [
    "sns.countplot(x='product_3\\nmotichoor\\n(Kg)', data=df)"
   ]
  },
  {
   "cell_type": "code",
   "execution_count": 77,
   "id": "3a83765e",
   "metadata": {},
   "outputs": [
    {
     "data": {
      "text/plain": [
       "<Axes: xlabel='product_4\\nkaju_barfi\\n(Kg)', ylabel='count'>"
      ]
     },
     "execution_count": 77,
     "metadata": {},
     "output_type": "execute_result"
    },
    {
     "data": {
      "image/png": "[encoded data removed]",
      "text/plain": [
       "<Figure size 640x480 with 1 Axes>"
      ]
     },
     "metadata": {},
     "output_type": "display_data"
    }
   ],
   "source": [
    "sns.countplot(x='product_4\\nkaju_barfi\\n(Kg)', data=df)"
   ]
  },
  {
   "cell_type": "code",
   "execution_count": 78,
   "id": "ce9bf4b5",
   "metadata": {
    "colab": {
     "base_uri": "https://localhost:8080/",
     "height": 321
    },
    "executionInfo": {
     "elapsed": 47,
     "status": "ok",
     "timestamp": 1652851741250,
     "user": {
      "displayName": "Aniketh H",
      "userId": "11737461681111421407"
     },
     "user_tz": -330
    },
    "id": "ce9bf4b5",
    "outputId": "26ea7294-82ff-4c7f-81e7-c1f074fa4db9"
   },
   "outputs": [
    {
     "data": {
      "text/plain": [
       "<Axes: xlabel='product_1\\nmysore_pak\\n(Kg)'>"
      ]
     },
     "execution_count": 78,
     "metadata": {},
     "output_type": "execute_result"
    },
    {
     "data": {
      "image/png": "[encoded data removed]",
      "text/plain": [
       "<Figure size 640x480 with 1 Axes>"
      ]
     },
     "metadata": {},
     "output_type": "display_data"
    }
   ],
   "source": [
    "sns.boxplot(x='product_1\\nmysore_pak\\n(Kg)',data = df)"
   ]
  },
  {
   "cell_type": "code",
   "execution_count": 79,
   "id": "c7a1e6a5",
   "metadata": {
    "colab": {
     "base_uri": "https://localhost:8080/",
     "height": 321
    },
    "executionInfo": {
     "elapsed": 1130,
     "status": "ok",
     "timestamp": 1652851742347,
     "user": {
      "displayName": "Aniketh H",
      "userId": "11737461681111421407"
     },
     "user_tz": -330
    },
    "id": "c7a1e6a5",
    "outputId": "7a020133-6a9e-435d-ba4e-2d1158aa8575"
   },
   "outputs": [
    {
     "data": {
      "text/plain": [
       "<Axes: xlabel='product_2\\nsoan_ papdi\\n(Kg)'>"
      ]
     },
     "execution_count": 79,
     "metadata": {},
     "output_type": "execute_result"
    },
    {
     "data": {
      "image/png": "[encoded data removed]",
      "text/plain": [
       "<Figure size 640x480 with 1 Axes>"
      ]
     },
     "metadata": {},
     "output_type": "display_data"
    }
   ],
   "source": [
    "sns.boxplot(x='product_2\\nsoan_ papdi\\n(Kg)',data = df)"
   ]
  },
  {
   "cell_type": "code",
   "execution_count": 80,
   "id": "af4d6161",
   "metadata": {},
   "outputs": [
    {
     "data": {
      "text/plain": [
       "<Axes: xlabel='product_3\\nmotichoor\\n(Kg)'>"
      ]
     },
     "execution_count": 80,
     "metadata": {},
     "output_type": "execute_result"
    },
    {
     "data": {
      "image/png": "[encoded data removed]",
      "text/plain": [
       "<Figure size 640x480 with 1 Axes>"
      ]
     },
     "metadata": {},
     "output_type": "display_data"
    }
   ],
   "source": [
    "sns.boxplot(x='product_3\\nmotichoor\\n(Kg)', data=df)"
   ]
  },
  {
   "cell_type": "code",
   "execution_count": 81,
   "id": "a73332b9",
   "metadata": {},
   "outputs": [
    {
     "data": {
      "text/plain": [
       "<Axes: xlabel='product_4\\nkaju_barfi\\n(Kg)'>"
      ]
     },
     "execution_count": 81,
     "metadata": {},
     "output_type": "execute_result"
    },
    {
     "data": {
      "image/png": "[encoded data removed]",
      "text/plain": [
       "<Figure size 640x480 with 1 Axes>"
      ]
     },
     "metadata": {},
     "output_type": "display_data"
    }
   ],
   "source": [
    "sns.boxplot(x='product_4\\nkaju_barfi\\n(Kg)',data = df)"
   ]
  },
  {
   "cell_type": "code",
   "execution_count": 82,
   "id": "32c65e90",
   "metadata": {
    "executionInfo": {
     "elapsed": 129,
     "status": "ok",
     "timestamp": 1652851742349,
     "user": {
      "displayName": "Aniketh H",
      "userId": "11737461681111421407"
     },
     "user_tz": -330
    },
    "id": "32c65e90"
   },
   "outputs": [],
   "source": [
    "# note :- all the data has outliers but in this we need outliers \n",
    "df.drop('user_id',axis = 1,inplace = True)"
   ]
  },
  {
   "cell_type": "code",
   "execution_count": 83,
   "id": "2b3416ce",
   "metadata": {
    "executionInfo": {
     "elapsed": 127,
     "status": "ok",
     "timestamp": 1652851742349,
     "user": {
      "displayName": "Aniketh H",
      "userId": "11737461681111421407"
     },
     "user_tz": -330
    },
    "id": "2b3416ce"
   },
   "outputs": [],
   "source": [
    "df.drop('sl_no',axis = 1,inplace = True)"
   ]
  },
  {
   "cell_type": "code",
   "execution_count": 84,
   "id": "62cca580",
   "metadata": {
    "colab": {
     "base_uri": "https://localhost:8080/",
     "height": 288
    },
    "executionInfo": {
     "elapsed": 126,
     "status": "ok",
     "timestamp": 1652851742350,
     "user": {
      "displayName": "Aniketh H",
      "userId": "11737461681111421407"
     },
     "user_tz": -330
    },
    "id": "62cca580",
    "outputId": "de6522a4-81e1-4451-f685-7f32aecc33b0",
    "scrolled": true
   },
   "outputs": [
    {
     "data": {
      "text/html": [
       "<div>\n",
       "<style scoped>\n",
       "    .dataframe tbody tr th:only-of-type {\n",
       "        vertical-align: middle;\n",
       "    }\n",
       "\n",
       "    .dataframe tbody tr th {\n",
       "        vertical-align: top;\n",
       "    }\n",
       "\n",
       "    .dataframe thead th {\n",
       "        text-align: right;\n",
       "    }\n",
       "</style>\n",
       "<table border=\"1\" class=\"dataframe\">\n",
       "  <thead>\n",
       "    <tr style=\"text-align: right;\">\n",
       "      <th></th>\n",
       "      <th>city</th>\n",
       "      <th>product_1\\nmysore_pak\\n(Kg)</th>\n",
       "      <th>product_2\\nsoan_ papdi\\n(Kg)</th>\n",
       "      <th>product_3\\nmotichoor\\n(Kg)</th>\n",
       "      <th>product_4\\nkaju_barfi\\n(Kg)</th>\n",
       "      <th>amont_1\\nmysore_pak</th>\n",
       "      <th>amount_2\\nsona_padi</th>\n",
       "      <th>amount_3\\nmotichoor</th>\n",
       "      <th>amount_4\\nkaju_barfi</th>\n",
       "      <th>total_amount</th>\n",
       "    </tr>\n",
       "  </thead>\n",
       "  <tbody>\n",
       "    <tr>\n",
       "      <th>0</th>\n",
       "      <td>BENGALURU</td>\n",
       "      <td>0.1</td>\n",
       "      <td>1.5</td>\n",
       "      <td>0.0</td>\n",
       "      <td>0.0</td>\n",
       "      <td>70</td>\n",
       "      <td>1125</td>\n",
       "      <td>0</td>\n",
       "      <td>0</td>\n",
       "      <td>1195</td>\n",
       "    </tr>\n",
       "    <tr>\n",
       "      <th>1</th>\n",
       "      <td>BENGALURU</td>\n",
       "      <td>1.5</td>\n",
       "      <td>0.0</td>\n",
       "      <td>1.5</td>\n",
       "      <td>2.5</td>\n",
       "      <td>1050</td>\n",
       "      <td>0</td>\n",
       "      <td>1200</td>\n",
       "      <td>3000</td>\n",
       "      <td>5250</td>\n",
       "    </tr>\n",
       "    <tr>\n",
       "      <th>2</th>\n",
       "      <td>BENGALURU</td>\n",
       "      <td>0.0</td>\n",
       "      <td>0.0</td>\n",
       "      <td>0.2</td>\n",
       "      <td>0.0</td>\n",
       "      <td>0</td>\n",
       "      <td>0</td>\n",
       "      <td>160</td>\n",
       "      <td>0</td>\n",
       "      <td>160</td>\n",
       "    </tr>\n",
       "    <tr>\n",
       "      <th>3</th>\n",
       "      <td>BENGALURU</td>\n",
       "      <td>2.0</td>\n",
       "      <td>0.0</td>\n",
       "      <td>0.2</td>\n",
       "      <td>0.0</td>\n",
       "      <td>1400</td>\n",
       "      <td>0</td>\n",
       "      <td>160</td>\n",
       "      <td>0</td>\n",
       "      <td>1560</td>\n",
       "    </tr>\n",
       "    <tr>\n",
       "      <th>4</th>\n",
       "      <td>BENGALURU</td>\n",
       "      <td>0.0</td>\n",
       "      <td>0.5</td>\n",
       "      <td>1.0</td>\n",
       "      <td>0.0</td>\n",
       "      <td>0</td>\n",
       "      <td>375</td>\n",
       "      <td>800</td>\n",
       "      <td>0</td>\n",
       "      <td>1175</td>\n",
       "    </tr>\n",
       "  </tbody>\n",
       "</table>\n",
       "</div>"
      ],
      "text/plain": [
       "        city  product_1\\nmysore_pak\\n(Kg)  product_2\\nsoan_ papdi\\n(Kg)  \\\n",
       "0  BENGALURU                          0.1                           1.5   \n",
       "1  BENGALURU                          1.5                           0.0   \n",
       "2  BENGALURU                          0.0                           0.0   \n",
       "3  BENGALURU                          2.0                           0.0   \n",
       "4  BENGALURU                          0.0                           0.5   \n",
       "\n",
       "   product_3\\nmotichoor\\n(Kg)  product_4\\nkaju_barfi\\n(Kg)  \\\n",
       "0                         0.0                          0.0   \n",
       "1                         1.5                          2.5   \n",
       "2                         0.2                          0.0   \n",
       "3                         0.2                          0.0   \n",
       "4                         1.0                          0.0   \n",
       "\n",
       "    amont_1\\nmysore_pak    amount_2\\nsona_padi   amount_3\\nmotichoor   \\\n",
       "0                     70                   1125                     0   \n",
       "1                   1050                      0                  1200   \n",
       "2                      0                      0                   160   \n",
       "3                   1400                      0                   160   \n",
       "4                      0                    375                   800   \n",
       "\n",
       "   amount_4\\nkaju_barfi  total_amount  \n",
       "0                     0          1195  \n",
       "1                  3000          5250  \n",
       "2                     0           160  \n",
       "3                     0          1560  \n",
       "4                     0          1175  "
      ]
     },
     "execution_count": 84,
     "metadata": {},
     "output_type": "execute_result"
    }
   ],
   "source": [
    "df.head()"
   ]
  },
  {
   "cell_type": "code",
   "execution_count": 85,
   "id": "a2ca8487",
   "metadata": {
    "colab": {
     "base_uri": "https://localhost:8080/"
    },
    "executionInfo": {
     "elapsed": 124,
     "status": "ok",
     "timestamp": 1652851742352,
     "user": {
      "displayName": "Aniketh H",
      "userId": "11737461681111421407"
     },
     "user_tz": -330
    },
    "id": "a2ca8487",
    "outputId": "19b88260-bf82-462e-8394-2ba496078707"
   },
   "outputs": [
    {
     "data": {
      "text/plain": [
       "array(['BENGALURU', 'MYSURU', 'BELAGAVI', 'HUBLI'], dtype=object)"
      ]
     },
     "execution_count": 85,
     "metadata": {},
     "output_type": "execute_result"
    }
   ],
   "source": [
    "df.city.unique()"
   ]
  },
  {
   "cell_type": "code",
   "execution_count": 86,
   "id": "283a0a5a",
   "metadata": {
    "executionInfo": {
     "elapsed": 114,
     "status": "ok",
     "timestamp": 1652851742352,
     "user": {
      "displayName": "Aniketh H",
      "userId": "11737461681111421407"
     },
     "user_tz": -330
    },
    "id": "283a0a5a"
   },
   "outputs": [],
   "source": [
    "df.city = df.city.map({'BENGALURU':1,'MYSURU':2,'BELAGAVI':3,'HUBLI':4})"
   ]
  },
  {
   "cell_type": "code",
   "execution_count": 87,
   "id": "84786372",
   "metadata": {},
   "outputs": [],
   "source": [
    "df.drop('city',axis = 1,inplace = True)"
   ]
  },
  {
   "cell_type": "code",
   "execution_count": 88,
   "id": "92f84b1c",
   "metadata": {
    "colab": {
     "base_uri": "https://localhost:8080/",
     "height": 288
    },
    "executionInfo": {
     "elapsed": 114,
     "status": "ok",
     "timestamp": 1652851742353,
     "user": {
      "displayName": "Aniketh H",
      "userId": "11737461681111421407"
     },
     "user_tz": -330
    },
    "id": "92f84b1c",
    "outputId": "def3c209-c065-4fea-afb6-9f01e079fbd8"
   },
   "outputs": [
    {
     "data": {
      "text/html": [
       "<div>\n",
       "<style scoped>\n",
       "    .dataframe tbody tr th:only-of-type {\n",
       "        vertical-align: middle;\n",
       "    }\n",
       "\n",
       "    .dataframe tbody tr th {\n",
       "        vertical-align: top;\n",
       "    }\n",
       "\n",
       "    .dataframe thead th {\n",
       "        text-align: right;\n",
       "    }\n",
       "</style>\n",
       "<table border=\"1\" class=\"dataframe\">\n",
       "  <thead>\n",
       "    <tr style=\"text-align: right;\">\n",
       "      <th></th>\n",
       "      <th>product_1\\nmysore_pak\\n(Kg)</th>\n",
       "      <th>product_2\\nsoan_ papdi\\n(Kg)</th>\n",
       "      <th>product_3\\nmotichoor\\n(Kg)</th>\n",
       "      <th>product_4\\nkaju_barfi\\n(Kg)</th>\n",
       "      <th>amont_1\\nmysore_pak</th>\n",
       "      <th>amount_2\\nsona_padi</th>\n",
       "      <th>amount_3\\nmotichoor</th>\n",
       "      <th>amount_4\\nkaju_barfi</th>\n",
       "      <th>total_amount</th>\n",
       "    </tr>\n",
       "  </thead>\n",
       "  <tbody>\n",
       "    <tr>\n",
       "      <th>0</th>\n",
       "      <td>0.1</td>\n",
       "      <td>1.5</td>\n",
       "      <td>0.0</td>\n",
       "      <td>0.0</td>\n",
       "      <td>70</td>\n",
       "      <td>1125</td>\n",
       "      <td>0</td>\n",
       "      <td>0</td>\n",
       "      <td>1195</td>\n",
       "    </tr>\n",
       "    <tr>\n",
       "      <th>1</th>\n",
       "      <td>1.5</td>\n",
       "      <td>0.0</td>\n",
       "      <td>1.5</td>\n",
       "      <td>2.5</td>\n",
       "      <td>1050</td>\n",
       "      <td>0</td>\n",
       "      <td>1200</td>\n",
       "      <td>3000</td>\n",
       "      <td>5250</td>\n",
       "    </tr>\n",
       "    <tr>\n",
       "      <th>2</th>\n",
       "      <td>0.0</td>\n",
       "      <td>0.0</td>\n",
       "      <td>0.2</td>\n",
       "      <td>0.0</td>\n",
       "      <td>0</td>\n",
       "      <td>0</td>\n",
       "      <td>160</td>\n",
       "      <td>0</td>\n",
       "      <td>160</td>\n",
       "    </tr>\n",
       "    <tr>\n",
       "      <th>3</th>\n",
       "      <td>2.0</td>\n",
       "      <td>0.0</td>\n",
       "      <td>0.2</td>\n",
       "      <td>0.0</td>\n",
       "      <td>1400</td>\n",
       "      <td>0</td>\n",
       "      <td>160</td>\n",
       "      <td>0</td>\n",
       "      <td>1560</td>\n",
       "    </tr>\n",
       "    <tr>\n",
       "      <th>4</th>\n",
       "      <td>0.0</td>\n",
       "      <td>0.5</td>\n",
       "      <td>1.0</td>\n",
       "      <td>0.0</td>\n",
       "      <td>0</td>\n",
       "      <td>375</td>\n",
       "      <td>800</td>\n",
       "      <td>0</td>\n",
       "      <td>1175</td>\n",
       "    </tr>\n",
       "  </tbody>\n",
       "</table>\n",
       "</div>"
      ],
      "text/plain": [
       "   product_1\\nmysore_pak\\n(Kg)  product_2\\nsoan_ papdi\\n(Kg)  \\\n",
       "0                          0.1                           1.5   \n",
       "1                          1.5                           0.0   \n",
       "2                          0.0                           0.0   \n",
       "3                          2.0                           0.0   \n",
       "4                          0.0                           0.5   \n",
       "\n",
       "   product_3\\nmotichoor\\n(Kg)  product_4\\nkaju_barfi\\n(Kg)  \\\n",
       "0                         0.0                          0.0   \n",
       "1                         1.5                          2.5   \n",
       "2                         0.2                          0.0   \n",
       "3                         0.2                          0.0   \n",
       "4                         1.0                          0.0   \n",
       "\n",
       "    amont_1\\nmysore_pak    amount_2\\nsona_padi   amount_3\\nmotichoor   \\\n",
       "0                     70                   1125                     0   \n",
       "1                   1050                      0                  1200   \n",
       "2                      0                      0                   160   \n",
       "3                   1400                      0                   160   \n",
       "4                      0                    375                   800   \n",
       "\n",
       "   amount_4\\nkaju_barfi  total_amount  \n",
       "0                     0          1195  \n",
       "1                  3000          5250  \n",
       "2                     0           160  \n",
       "3                     0          1560  \n",
       "4                     0          1175  "
      ]
     },
     "execution_count": 88,
     "metadata": {},
     "output_type": "execute_result"
    }
   ],
   "source": [
    "df.head(5)"
   ]
  },
  {
   "cell_type": "code",
   "execution_count": 89,
   "id": "6ac5d8b0",
   "metadata": {
    "executionInfo": {
     "elapsed": 109,
     "status": "ok",
     "timestamp": 1652851742355,
     "user": {
      "displayName": "Aniketh H",
      "userId": "11737461681111421407"
     },
     "user_tz": -330
    },
    "id": "6ac5d8b0"
   },
   "outputs": [],
   "source": [
    "X= df.iloc[:,:-1]"
   ]
  },
  {
   "cell_type": "code",
   "execution_count": 90,
   "id": "8d914009",
   "metadata": {
    "colab": {
     "base_uri": "https://localhost:8080/",
     "height": 505
    },
    "executionInfo": {
     "elapsed": 109,
     "status": "ok",
     "timestamp": 1652851742355,
     "user": {
      "displayName": "Aniketh H",
      "userId": "11737461681111421407"
     },
     "user_tz": -330
    },
    "id": "8d914009",
    "outputId": "50ac2a9e-d8e2-4ff1-87fd-d9a758837c37"
   },
   "outputs": [
    {
     "data": {
      "text/html": [
       "<div>\n",
       "<style scoped>\n",
       "    .dataframe tbody tr th:only-of-type {\n",
       "        vertical-align: middle;\n",
       "    }\n",
       "\n",
       "    .dataframe tbody tr th {\n",
       "        vertical-align: top;\n",
       "    }\n",
       "\n",
       "    .dataframe thead th {\n",
       "        text-align: right;\n",
       "    }\n",
       "</style>\n",
       "<table border=\"1\" class=\"dataframe\">\n",
       "  <thead>\n",
       "    <tr style=\"text-align: right;\">\n",
       "      <th></th>\n",
       "      <th>product_1\\nmysore_pak\\n(Kg)</th>\n",
       "      <th>product_2\\nsoan_ papdi\\n(Kg)</th>\n",
       "      <th>product_3\\nmotichoor\\n(Kg)</th>\n",
       "      <th>product_4\\nkaju_barfi\\n(Kg)</th>\n",
       "      <th>amont_1\\nmysore_pak</th>\n",
       "      <th>amount_2\\nsona_padi</th>\n",
       "      <th>amount_3\\nmotichoor</th>\n",
       "      <th>amount_4\\nkaju_barfi</th>\n",
       "    </tr>\n",
       "  </thead>\n",
       "  <tbody>\n",
       "    <tr>\n",
       "      <th>0</th>\n",
       "      <td>0.1</td>\n",
       "      <td>1.5</td>\n",
       "      <td>0.0</td>\n",
       "      <td>0.0</td>\n",
       "      <td>70</td>\n",
       "      <td>1125</td>\n",
       "      <td>0</td>\n",
       "      <td>0</td>\n",
       "    </tr>\n",
       "    <tr>\n",
       "      <th>1</th>\n",
       "      <td>1.5</td>\n",
       "      <td>0.0</td>\n",
       "      <td>1.5</td>\n",
       "      <td>2.5</td>\n",
       "      <td>1050</td>\n",
       "      <td>0</td>\n",
       "      <td>1200</td>\n",
       "      <td>3000</td>\n",
       "    </tr>\n",
       "    <tr>\n",
       "      <th>2</th>\n",
       "      <td>0.0</td>\n",
       "      <td>0.0</td>\n",
       "      <td>0.2</td>\n",
       "      <td>0.0</td>\n",
       "      <td>0</td>\n",
       "      <td>0</td>\n",
       "      <td>160</td>\n",
       "      <td>0</td>\n",
       "    </tr>\n",
       "    <tr>\n",
       "      <th>3</th>\n",
       "      <td>2.0</td>\n",
       "      <td>0.0</td>\n",
       "      <td>0.2</td>\n",
       "      <td>0.0</td>\n",
       "      <td>1400</td>\n",
       "      <td>0</td>\n",
       "      <td>160</td>\n",
       "      <td>0</td>\n",
       "    </tr>\n",
       "    <tr>\n",
       "      <th>4</th>\n",
       "      <td>0.0</td>\n",
       "      <td>0.5</td>\n",
       "      <td>1.0</td>\n",
       "      <td>0.0</td>\n",
       "      <td>0</td>\n",
       "      <td>375</td>\n",
       "      <td>800</td>\n",
       "      <td>0</td>\n",
       "    </tr>\n",
       "    <tr>\n",
       "      <th>...</th>\n",
       "      <td>...</td>\n",
       "      <td>...</td>\n",
       "      <td>...</td>\n",
       "      <td>...</td>\n",
       "      <td>...</td>\n",
       "      <td>...</td>\n",
       "      <td>...</td>\n",
       "      <td>...</td>\n",
       "    </tr>\n",
       "    <tr>\n",
       "      <th>995</th>\n",
       "      <td>0.0</td>\n",
       "      <td>0.5</td>\n",
       "      <td>0.0</td>\n",
       "      <td>0.0</td>\n",
       "      <td>0</td>\n",
       "      <td>375</td>\n",
       "      <td>0</td>\n",
       "      <td>0</td>\n",
       "    </tr>\n",
       "    <tr>\n",
       "      <th>996</th>\n",
       "      <td>1.0</td>\n",
       "      <td>1.5</td>\n",
       "      <td>0.0</td>\n",
       "      <td>0.0</td>\n",
       "      <td>700</td>\n",
       "      <td>1125</td>\n",
       "      <td>0</td>\n",
       "      <td>0</td>\n",
       "    </tr>\n",
       "    <tr>\n",
       "      <th>997</th>\n",
       "      <td>1.5</td>\n",
       "      <td>1.5</td>\n",
       "      <td>0.2</td>\n",
       "      <td>0.0</td>\n",
       "      <td>1050</td>\n",
       "      <td>1125</td>\n",
       "      <td>160</td>\n",
       "      <td>0</td>\n",
       "    </tr>\n",
       "    <tr>\n",
       "      <th>998</th>\n",
       "      <td>0.0</td>\n",
       "      <td>0.2</td>\n",
       "      <td>0.0</td>\n",
       "      <td>0.5</td>\n",
       "      <td>0</td>\n",
       "      <td>150</td>\n",
       "      <td>0</td>\n",
       "      <td>600</td>\n",
       "    </tr>\n",
       "    <tr>\n",
       "      <th>999</th>\n",
       "      <td>0.0</td>\n",
       "      <td>0.2</td>\n",
       "      <td>0.5</td>\n",
       "      <td>0.0</td>\n",
       "      <td>0</td>\n",
       "      <td>150</td>\n",
       "      <td>400</td>\n",
       "      <td>0</td>\n",
       "    </tr>\n",
       "  </tbody>\n",
       "</table>\n",
       "<p>1000 rows × 8 columns</p>\n",
       "</div>"
      ],
      "text/plain": [
       "     product_1\\nmysore_pak\\n(Kg)  product_2\\nsoan_ papdi\\n(Kg)  \\\n",
       "0                            0.1                           1.5   \n",
       "1                            1.5                           0.0   \n",
       "2                            0.0                           0.0   \n",
       "3                            2.0                           0.0   \n",
       "4                            0.0                           0.5   \n",
       "..                           ...                           ...   \n",
       "995                          0.0                           0.5   \n",
       "996                          1.0                           1.5   \n",
       "997                          1.5                           1.5   \n",
       "998                          0.0                           0.2   \n",
       "999                          0.0                           0.2   \n",
       "\n",
       "     product_3\\nmotichoor\\n(Kg)  product_4\\nkaju_barfi\\n(Kg)  \\\n",
       "0                           0.0                          0.0   \n",
       "1                           1.5                          2.5   \n",
       "2                           0.2                          0.0   \n",
       "3                           0.2                          0.0   \n",
       "4                           1.0                          0.0   \n",
       "..                          ...                          ...   \n",
       "995                         0.0                          0.0   \n",
       "996                         0.0                          0.0   \n",
       "997                         0.2                          0.0   \n",
       "998                         0.0                          0.5   \n",
       "999                         0.5                          0.0   \n",
       "\n",
       "      amont_1\\nmysore_pak    amount_2\\nsona_padi   amount_3\\nmotichoor   \\\n",
       "0                       70                   1125                     0   \n",
       "1                     1050                      0                  1200   \n",
       "2                        0                      0                   160   \n",
       "3                     1400                      0                   160   \n",
       "4                        0                    375                   800   \n",
       "..                     ...                    ...                   ...   \n",
       "995                      0                    375                     0   \n",
       "996                    700                   1125                     0   \n",
       "997                   1050                   1125                   160   \n",
       "998                      0                    150                     0   \n",
       "999                      0                    150                   400   \n",
       "\n",
       "     amount_4\\nkaju_barfi  \n",
       "0                       0  \n",
       "1                    3000  \n",
       "2                       0  \n",
       "3                       0  \n",
       "4                       0  \n",
       "..                    ...  \n",
       "995                     0  \n",
       "996                     0  \n",
       "997                     0  \n",
       "998                   600  \n",
       "999                     0  \n",
       "\n",
       "[1000 rows x 8 columns]"
      ]
     },
     "execution_count": 90,
     "metadata": {},
     "output_type": "execute_result"
    }
   ],
   "source": [
    "X"
   ]
  },
  {
   "cell_type": "code",
   "execution_count": 91,
   "id": "732f725b",
   "metadata": {
    "executionInfo": {
     "elapsed": 108,
     "status": "ok",
     "timestamp": 1652851742356,
     "user": {
      "displayName": "Aniketh H",
      "userId": "11737461681111421407"
     },
     "user_tz": -330
    },
    "id": "732f725b"
   },
   "outputs": [],
   "source": [
    "y = df.iloc[:,-1]"
   ]
  },
  {
   "cell_type": "code",
   "execution_count": 92,
   "id": "0cbb8db3",
   "metadata": {
    "colab": {
     "base_uri": "https://localhost:8080/"
    },
    "executionInfo": {
     "elapsed": 109,
     "status": "ok",
     "timestamp": 1652851742357,
     "user": {
      "displayName": "Aniketh H",
      "userId": "11737461681111421407"
     },
     "user_tz": -330
    },
    "id": "0cbb8db3",
    "outputId": "d9903288-c19e-46c2-9c6e-88bc4ca27bcb"
   },
   "outputs": [
    {
     "data": {
      "text/plain": [
       "0      1195\n",
       "1      5250\n",
       "2       160\n",
       "3      1560\n",
       "4      1175\n",
       "       ... \n",
       "995     375\n",
       "996    1825\n",
       "997    2335\n",
       "998     750\n",
       "999     550\n",
       "Name: total_amount, Length: 1000, dtype: int64"
      ]
     },
     "execution_count": 92,
     "metadata": {},
     "output_type": "execute_result"
    }
   ],
   "source": [
    "y"
   ]
  },
  {
   "cell_type": "code",
   "execution_count": 93,
   "id": "95a31c57",
   "metadata": {
    "executionInfo": {
     "elapsed": 105,
     "status": "ok",
     "timestamp": 1652851742357,
     "user": {
      "displayName": "Aniketh H",
      "userId": "11737461681111421407"
     },
     "user_tz": -330
    },
    "id": "95a31c57"
   },
   "outputs": [],
   "source": [
    "from sklearn.model_selection import train_test_split\n",
    "x_train,x_test,y_train,y_test = train_test_split(X,y,test_size = 0.25,random_state = 42)"
   ]
  },
  {
   "cell_type": "code",
   "execution_count": 94,
   "id": "8aaa0ed6",
   "metadata": {},
   "outputs": [],
   "source": [
    "from sklearn.metrics import mean_squared_error, r2_score"
   ]
  },
  {
   "cell_type": "code",
   "execution_count": 95,
   "id": "71e6eff8",
   "metadata": {},
   "outputs": [
    {
     "data": {
      "text/html": [
       "<div>\n",
       "<style scoped>\n",
       "    .dataframe tbody tr th:only-of-type {\n",
       "        vertical-align: middle;\n",
       "    }\n",
       "\n",
       "    .dataframe tbody tr th {\n",
       "        vertical-align: top;\n",
       "    }\n",
       "\n",
       "    .dataframe thead th {\n",
       "        text-align: right;\n",
       "    }\n",
       "</style>\n",
       "<table border=\"1\" class=\"dataframe\">\n",
       "  <thead>\n",
       "    <tr style=\"text-align: right;\">\n",
       "      <th></th>\n",
       "      <th>product_1\\nmysore_pak\\n(Kg)</th>\n",
       "      <th>product_2\\nsoan_ papdi\\n(Kg)</th>\n",
       "      <th>product_3\\nmotichoor\\n(Kg)</th>\n",
       "      <th>product_4\\nkaju_barfi\\n(Kg)</th>\n",
       "      <th>amont_1\\nmysore_pak</th>\n",
       "      <th>amount_2\\nsona_padi</th>\n",
       "      <th>amount_3\\nmotichoor</th>\n",
       "      <th>amount_4\\nkaju_barfi</th>\n",
       "    </tr>\n",
       "  </thead>\n",
       "  <tbody>\n",
       "    <tr>\n",
       "      <th>521</th>\n",
       "      <td>0.0</td>\n",
       "      <td>0.5</td>\n",
       "      <td>0.0</td>\n",
       "      <td>7.0</td>\n",
       "      <td>0</td>\n",
       "      <td>375</td>\n",
       "      <td>0</td>\n",
       "      <td>8400</td>\n",
       "    </tr>\n",
       "    <tr>\n",
       "      <th>737</th>\n",
       "      <td>0.2</td>\n",
       "      <td>0.0</td>\n",
       "      <td>0.5</td>\n",
       "      <td>1.0</td>\n",
       "      <td>140</td>\n",
       "      <td>0</td>\n",
       "      <td>400</td>\n",
       "      <td>1200</td>\n",
       "    </tr>\n",
       "    <tr>\n",
       "      <th>740</th>\n",
       "      <td>0.0</td>\n",
       "      <td>0.0</td>\n",
       "      <td>0.2</td>\n",
       "      <td>0.0</td>\n",
       "      <td>0</td>\n",
       "      <td>0</td>\n",
       "      <td>160</td>\n",
       "      <td>0</td>\n",
       "    </tr>\n",
       "    <tr>\n",
       "      <th>660</th>\n",
       "      <td>0.2</td>\n",
       "      <td>1.0</td>\n",
       "      <td>2.5</td>\n",
       "      <td>3.0</td>\n",
       "      <td>140</td>\n",
       "      <td>750</td>\n",
       "      <td>2000</td>\n",
       "      <td>3600</td>\n",
       "    </tr>\n",
       "    <tr>\n",
       "      <th>411</th>\n",
       "      <td>0.0</td>\n",
       "      <td>0.5</td>\n",
       "      <td>0.2</td>\n",
       "      <td>1.0</td>\n",
       "      <td>0</td>\n",
       "      <td>375</td>\n",
       "      <td>160</td>\n",
       "      <td>1200</td>\n",
       "    </tr>\n",
       "    <tr>\n",
       "      <th>...</th>\n",
       "      <td>...</td>\n",
       "      <td>...</td>\n",
       "      <td>...</td>\n",
       "      <td>...</td>\n",
       "      <td>...</td>\n",
       "      <td>...</td>\n",
       "      <td>...</td>\n",
       "      <td>...</td>\n",
       "    </tr>\n",
       "    <tr>\n",
       "      <th>109</th>\n",
       "      <td>0.5</td>\n",
       "      <td>1.0</td>\n",
       "      <td>2.0</td>\n",
       "      <td>0.0</td>\n",
       "      <td>350</td>\n",
       "      <td>750</td>\n",
       "      <td>1600</td>\n",
       "      <td>0</td>\n",
       "    </tr>\n",
       "    <tr>\n",
       "      <th>430</th>\n",
       "      <td>0.2</td>\n",
       "      <td>0.5</td>\n",
       "      <td>1.0</td>\n",
       "      <td>1.0</td>\n",
       "      <td>140</td>\n",
       "      <td>375</td>\n",
       "      <td>800</td>\n",
       "      <td>1200</td>\n",
       "    </tr>\n",
       "    <tr>\n",
       "      <th>77</th>\n",
       "      <td>0.0</td>\n",
       "      <td>0.0</td>\n",
       "      <td>0.0</td>\n",
       "      <td>5.0</td>\n",
       "      <td>0</td>\n",
       "      <td>0</td>\n",
       "      <td>0</td>\n",
       "      <td>6000</td>\n",
       "    </tr>\n",
       "    <tr>\n",
       "      <th>84</th>\n",
       "      <td>0.0</td>\n",
       "      <td>0.0</td>\n",
       "      <td>0.0</td>\n",
       "      <td>5.0</td>\n",
       "      <td>0</td>\n",
       "      <td>0</td>\n",
       "      <td>0</td>\n",
       "      <td>6000</td>\n",
       "    </tr>\n",
       "    <tr>\n",
       "      <th>286</th>\n",
       "      <td>0.0</td>\n",
       "      <td>0.0</td>\n",
       "      <td>0.0</td>\n",
       "      <td>1.0</td>\n",
       "      <td>0</td>\n",
       "      <td>0</td>\n",
       "      <td>0</td>\n",
       "      <td>1200</td>\n",
       "    </tr>\n",
       "  </tbody>\n",
       "</table>\n",
       "<p>250 rows × 8 columns</p>\n",
       "</div>"
      ],
      "text/plain": [
       "     product_1\\nmysore_pak\\n(Kg)  product_2\\nsoan_ papdi\\n(Kg)  \\\n",
       "521                          0.0                           0.5   \n",
       "737                          0.2                           0.0   \n",
       "740                          0.0                           0.0   \n",
       "660                          0.2                           1.0   \n",
       "411                          0.0                           0.5   \n",
       "..                           ...                           ...   \n",
       "109                          0.5                           1.0   \n",
       "430                          0.2                           0.5   \n",
       "77                           0.0                           0.0   \n",
       "84                           0.0                           0.0   \n",
       "286                          0.0                           0.0   \n",
       "\n",
       "     product_3\\nmotichoor\\n(Kg)  product_4\\nkaju_barfi\\n(Kg)  \\\n",
       "521                         0.0                          7.0   \n",
       "737                         0.5                          1.0   \n",
       "740                         0.2                          0.0   \n",
       "660                         2.5                          3.0   \n",
       "411                         0.2                          1.0   \n",
       "..                          ...                          ...   \n",
       "109                         2.0                          0.0   \n",
       "430                         1.0                          1.0   \n",
       "77                          0.0                          5.0   \n",
       "84                          0.0                          5.0   \n",
       "286                         0.0                          1.0   \n",
       "\n",
       "      amont_1\\nmysore_pak    amount_2\\nsona_padi   amount_3\\nmotichoor   \\\n",
       "521                      0                    375                     0   \n",
       "737                    140                      0                   400   \n",
       "740                      0                      0                   160   \n",
       "660                    140                    750                  2000   \n",
       "411                      0                    375                   160   \n",
       "..                     ...                    ...                   ...   \n",
       "109                    350                    750                  1600   \n",
       "430                    140                    375                   800   \n",
       "77                       0                      0                     0   \n",
       "84                       0                      0                     0   \n",
       "286                      0                      0                     0   \n",
       "\n",
       "     amount_4\\nkaju_barfi  \n",
       "521                  8400  \n",
       "737                  1200  \n",
       "740                     0  \n",
       "660                  3600  \n",
       "411                  1200  \n",
       "..                    ...  \n",
       "109                     0  \n",
       "430                  1200  \n",
       "77                   6000  \n",
       "84                   6000  \n",
       "286                  1200  \n",
       "\n",
       "[250 rows x 8 columns]"
      ]
     },
     "execution_count": 95,
     "metadata": {},
     "output_type": "execute_result"
    }
   ],
   "source": [
    "x_test"
   ]
  },
  {
   "cell_type": "code",
   "execution_count": 96,
   "id": "d81da0df",
   "metadata": {},
   "outputs": [
    {
     "data": {
      "text/plain": [
       "521    8775\n",
       "737    1740\n",
       "740     160\n",
       "660    6490\n",
       "411    1735\n",
       "       ... \n",
       "109    2700\n",
       "430    2515\n",
       "77     6000\n",
       "84     6000\n",
       "286    1200\n",
       "Name: total_amount, Length: 250, dtype: int64"
      ]
     },
     "execution_count": 96,
     "metadata": {},
     "output_type": "execute_result"
    }
   ],
   "source": [
    "y_test"
   ]
  },
  {
   "cell_type": "code",
   "execution_count": 97,
   "id": "5c4b7c0c",
   "metadata": {},
   "outputs": [],
   "source": [
    "from sklearn.linear_model import LinearRegression"
   ]
  },
  {
   "cell_type": "code",
   "execution_count": 98,
   "id": "b6dabe15",
   "metadata": {},
   "outputs": [],
   "source": [
    "lr_model = LinearRegression()"
   ]
  },
  {
   "cell_type": "code",
   "execution_count": 99,
   "id": "4f909514",
   "metadata": {},
   "outputs": [
    {
     "data": {
      "text/html": [
       "<style>#sk-container-id-4 {color: black;}#sk-container-id-4 pre{padding: 0;}#sk-container-id-4 div.sk-toggleable {background-color: white;}#sk-container-id-4 label.sk-toggleable__label {cursor: pointer;display: block;width: 100%;margin-bottom: 0;padding: 0.3em;box-sizing: border-box;text-align: center;}#sk-container-id-4 label.sk-toggleable__label-arrow:before {content: \"▸\";float: left;margin-right: 0.25em;color: #696969;}#sk-container-id-4 label.sk-toggleable__label-arrow:hover:before {color: black;}#sk-container-id-4 div.sk-estimator:hover label.sk-toggleable__label-arrow:before {color: black;}#sk-container-id-4 div.sk-toggleable__content {max-height: 0;max-width: 0;overflow: hidden;text-align: left;background-color: #f0f8ff;}#sk-container-id-4 div.sk-toggleable__content pre {margin: 0.2em;color: black;border-radius: 0.25em;background-color: #f0f8ff;}#sk-container-id-4 input.sk-toggleable__control:checked~div.sk-toggleable__content {max-height: 200px;max-width: 100%;overflow: auto;}#sk-container-id-4 input.sk-toggleable__control:checked~label.sk-toggleable__label-arrow:before {content: \"▾\";}#sk-container-id-4 div.sk-estimator input.sk-toggleable__control:checked~label.sk-toggleable__label {background-color: #d4ebff;}#sk-container-id-4 div.sk-label input.sk-toggleable__control:checked~label.sk-toggleable__label {background-color: #d4ebff;}#sk-container-id-4 input.sk-hidden--visually {border: 0;clip: rect(1px 1px 1px 1px);clip: rect(1px, 1px, 1px, 1px);height: 1px;margin: -1px;overflow: hidden;padding: 0;position: absolute;width: 1px;}#sk-container-id-4 div.sk-estimator {font-family: monospace;background-color: #f0f8ff;border: 1px dotted black;border-radius: 0.25em;box-sizing: border-box;margin-bottom: 0.5em;}#sk-container-id-4 div.sk-estimator:hover {background-color: #d4ebff;}#sk-container-id-4 div.sk-parallel-item::after {content: \"\";width: 100%;border-bottom: 1px solid gray;flex-grow: 1;}#sk-container-id-4 div.sk-label:hover label.sk-toggleable__label {background-color: #d4ebff;}#sk-container-id-4 div.sk-serial::before {content: \"\";position: absolute;border-left: 1px solid gray;box-sizing: border-box;top: 0;bottom: 0;left: 50%;z-index: 0;}#sk-container-id-4 div.sk-serial {display: flex;flex-direction: column;align-items: center;background-color: white;padding-right: 0.2em;padding-left: 0.2em;position: relative;}#sk-container-id-4 div.sk-item {position: relative;z-index: 1;}#sk-container-id-4 div.sk-parallel {display: flex;align-items: stretch;justify-content: center;background-color: white;position: relative;}#sk-container-id-4 div.sk-item::before, #sk-container-id-4 div.sk-parallel-item::before {content: \"\";position: absolute;border-left: 1px solid gray;box-sizing: border-box;top: 0;bottom: 0;left: 50%;z-index: -1;}#sk-container-id-4 div.sk-parallel-item {display: flex;flex-direction: column;z-index: 1;position: relative;background-color: white;}#sk-container-id-4 div.sk-parallel-item:first-child::after {align-self: flex-end;width: 50%;}#sk-container-id-4 div.sk-parallel-item:last-child::after {align-self: flex-start;width: 50%;}#sk-container-id-4 div.sk-parallel-item:only-child::after {width: 0;}#sk-container-id-4 div.sk-dashed-wrapped {border: 1px dashed gray;margin: 0 0.4em 0.5em 0.4em;box-sizing: border-box;padding-bottom: 0.4em;background-color: white;}#sk-container-id-4 div.sk-label label {font-family: monospace;font-weight: bold;display: inline-block;line-height: 1.2em;}#sk-container-id-4 div.sk-label-container {text-align: center;}#sk-container-id-4 div.sk-container {/* jupyter's `normalize.less` sets `[hidden] { display: none; }` but bootstrap.min.css set `[hidden] { display: none !important; }` so we also need the `!important` here to be able to override the default hidden behavior on the sphinx rendered scikit-learn.org. See: https://github.com/scikit-learn/scikit-learn/issues/21755 */display: inline-block !important;position: relative;}#sk-container-id-4 div.sk-text-repr-fallback {display: none;}</style><div id=\"sk-container-id-4\" class=\"sk-top-container\"><div class=\"sk-text-repr-fallback\"><pre>LinearRegression()</pre><b>In a Jupyter environment, please rerun this cell to show the HTML representation or trust the notebook. <br />On GitHub, the HTML representation is unable to render, please try loading this page with nbviewer.org.</b></div><div class=\"sk-container\" hidden><div class=\"sk-item\"><div class=\"sk-estimator sk-toggleable\"><input class=\"sk-toggleable__control sk-hidden--visually\" id=\"sk-estimator-id-4\" type=\"checkbox\" checked><label for=\"sk-estimator-id-4\" class=\"sk-toggleable__label sk-toggleable__label-arrow\">LinearRegression</label><div class=\"sk-toggleable__content\"><pre>LinearRegression()</pre></div></div></div></div></div>"
      ],
      "text/plain": [
       "LinearRegression()"
      ]
     },
     "execution_count": 99,
     "metadata": {},
     "output_type": "execute_result"
    }
   ],
   "source": [
    "lr_model.fit(x_train, y_train)"
   ]
  },
  {
   "cell_type": "code",
   "execution_count": 100,
   "id": "6de6d3c1",
   "metadata": {},
   "outputs": [],
   "source": [
    "lr_predictions = lr_model.predict(x_test)"
   ]
  },
  {
   "cell_type": "code",
   "execution_count": 101,
   "id": "cfb090db",
   "metadata": {},
   "outputs": [
    {
     "data": {
      "text/plain": [
       "1.0"
      ]
     },
     "execution_count": 101,
     "metadata": {},
     "output_type": "execute_result"
    }
   ],
   "source": [
    "lr_model.score(x_train,y_train)"
   ]
  },
  {
   "cell_type": "code",
   "execution_count": 102,
   "id": "67083568",
   "metadata": {},
   "outputs": [
    {
     "data": {
      "text/plain": [
       "1.0"
      ]
     },
     "execution_count": 102,
     "metadata": {},
     "output_type": "execute_result"
    }
   ],
   "source": [
    "lr_model.score(x_test,y_test)"
   ]
  },
  {
   "cell_type": "code",
   "execution_count": 103,
   "id": "76d8b3fe",
   "metadata": {},
   "outputs": [],
   "source": [
    "y_pred1 = lr_model.predict(x_test)"
   ]
  },
  {
   "cell_type": "code",
   "execution_count": 104,
   "id": "78ecf696",
   "metadata": {},
   "outputs": [
    {
     "data": {
      "text/plain": [
       "array([ 8775.,  1740.,   160.,  6490.,  1735.,  3000.,  6000., 10350.,\n",
       "        7500.,  3625.,   375.,  1600.,   860.,   400.,  2065.,  2625.,\n",
       "        1735.,  2100.,  1700.,  1575.,   400.,  4050.,  1500.,   160.,\n",
       "         700.,  1500.,  1950.,  2800.,  1175.,   375.,  1450.,  3050.,\n",
       "        1740.,  2750.,  6300.,  5850.,  4800.,  1900.,  1735.,  4900.,\n",
       "        6425.,  1800.,  3100.,  2750.,  1365.,  4825.,   860.,  3800.,\n",
       "        2590.,  1975.,  1825.,   700.,  1900.,   160.,  7500.,  3900.,\n",
       "        2300.,   690.,   550.,  1175.,  1750.,  7600.,  1290.,  3525.,\n",
       "        4500.,  2200.,  6225.,   160.,   750.,   150.,   160.,  2540.,\n",
       "        1950.,   160.,  8500.,  2400.,  3140.,  2900.,  3375.,   300.,\n",
       "        2400.,  1950.,  5875.,  3500.,   860.,  2690.,   750.,   535.,\n",
       "        1075.,  1735.,  1550.,  3425.,   740.,  9500.,  4200.,  2375.,\n",
       "        1200.,  2425.,  1550.,   375.,  1735.,   160.,   160.,  3825.,\n",
       "         615.,   750.,   160.,   400.,  4125.,   615.,  1175.,  4500.,\n",
       "        1875.,  2750.,  2950.,  6900., 14000.,   535.,  5900.,  1300.,\n",
       "         500.,  2060.,  4800.,  1600.,   600.,  2975.,   700.,  4250.,\n",
       "        3425.,  1940.,  3375.,   400.,  1200.,   375.,  1350.,  9500.,\n",
       "        2000.,   760.,   375.,  1800.,   375.,  5950.,  1700.,  2585.,\n",
       "        3200.,  1200.,  2625.,  1300.,  3800.,  1750.,  5050.,  1800.,\n",
       "        2750.,  3450.,   600.,  3340.,  1175.,  6800.,  5600.,  1075.,\n",
       "        1100.,  1350.,  1750.,  2790.,  1290.,  1175.,  1575.,  6425.,\n",
       "        4300.,  3740., 10350.,  3115.,   160.,   400.,  3100.,  1400.,\n",
       "        1875.,   540.,   375.,  2490.,  6000.,  4800.,   160.,  2400.,\n",
       "        6750.,  4050.,  2900.,  3275.,  3750.,   535.,   535.,   535.,\n",
       "         700., 17250.,  3700.,  1825.,  8300.,  1950.,   740.,   515.,\n",
       "        3500.,  1560.,  3115.,  2700.,  4125.,  2400.,   400.,  1600.,\n",
       "         375.,  1825.,   550.,  2575.,   500.,   140.,   750.,   760.,\n",
       "        3450.,  6500.,   750.,  7575.,  6000.,  3450.,  3450.,  3850.,\n",
       "         540.,   160.,   400.,  8100.,   375.,  2650.,  1500.,   150.,\n",
       "        1740.,  2550.,  3900.,  3700.,  2975.,   750.,  1235.,  6425.,\n",
       "        1560.,  2925.,  2100.,   700.,  1600.,  2700.,  2515.,  6000.,\n",
       "        6000.,  1200.])"
      ]
     },
     "execution_count": 104,
     "metadata": {},
     "output_type": "execute_result"
    }
   ],
   "source": [
    "y_pred1"
   ]
  },
  {
   "cell_type": "code",
   "execution_count": 105,
   "id": "18823822",
   "metadata": {},
   "outputs": [
    {
     "data": {
      "text/plain": [
       "Text(0.5, 1.0, 'actual vs predicted ')"
      ]
     },
     "execution_count": 105,
     "metadata": {},
     "output_type": "execute_result"
    },
    {
     "data": {
      "image/png": "[encoded data removed]",
      "text/plain": [
       "<Figure size 1200x800 with 1 Axes>"
      ]
     },
     "metadata": {},
     "output_type": "display_data"
    }
   ],
   "source": [
    "plt.figure(figsize=(12,8))\n",
    "plt.scatter(y_test,y_pred1)\n",
    "plt.xlabel('actual values')\n",
    "plt.ylabel('predicted values')\n",
    "plt.title('actual vs predicted ')"
   ]
  },
  {
   "cell_type": "code",
   "execution_count": 106,
   "id": "697f262b",
   "metadata": {},
   "outputs": [],
   "source": [
    "lr_mse = mean_squared_error(y_test, lr_predictions)"
   ]
  },
  {
   "cell_type": "code",
   "execution_count": 107,
   "id": "67dd0bd1",
   "metadata": {},
   "outputs": [],
   "source": [
    "lr_r2 = r2_score(y_test, lr_predictions)"
   ]
  },
  {
   "cell_type": "code",
   "execution_count": 108,
   "id": "6e6df314",
   "metadata": {},
   "outputs": [],
   "source": [
    "from sklearn.tree import DecisionTreeRegressor"
   ]
  },
  {
   "cell_type": "code",
   "execution_count": 109,
   "id": "ea8496f8",
   "metadata": {},
   "outputs": [],
   "source": [
    "dt_model = DecisionTreeRegressor()"
   ]
  },
  {
   "cell_type": "code",
   "execution_count": 110,
   "id": "595947fc",
   "metadata": {},
   "outputs": [
    {
     "data": {
      "text/html": [
       "<style>#sk-container-id-5 {color: black;}#sk-container-id-5 pre{padding: 0;}#sk-container-id-5 div.sk-toggleable {background-color: white;}#sk-container-id-5 label.sk-toggleable__label {cursor: pointer;display: block;width: 100%;margin-bottom: 0;padding: 0.3em;box-sizing: border-box;text-align: center;}#sk-container-id-5 label.sk-toggleable__label-arrow:before {content: \"▸\";float: left;margin-right: 0.25em;color: #696969;}#sk-container-id-5 label.sk-toggleable__label-arrow:hover:before {color: black;}#sk-container-id-5 div.sk-estimator:hover label.sk-toggleable__label-arrow:before {color: black;}#sk-container-id-5 div.sk-toggleable__content {max-height: 0;max-width: 0;overflow: hidden;text-align: left;background-color: #f0f8ff;}#sk-container-id-5 div.sk-toggleable__content pre {margin: 0.2em;color: black;border-radius: 0.25em;background-color: #f0f8ff;}#sk-container-id-5 input.sk-toggleable__control:checked~div.sk-toggleable__content {max-height: 200px;max-width: 100%;overflow: auto;}#sk-container-id-5 input.sk-toggleable__control:checked~label.sk-toggleable__label-arrow:before {content: \"▾\";}#sk-container-id-5 div.sk-estimator input.sk-toggleable__control:checked~label.sk-toggleable__label {background-color: #d4ebff;}#sk-container-id-5 div.sk-label input.sk-toggleable__control:checked~label.sk-toggleable__label {background-color: #d4ebff;}#sk-container-id-5 input.sk-hidden--visually {border: 0;clip: rect(1px 1px 1px 1px);clip: rect(1px, 1px, 1px, 1px);height: 1px;margin: -1px;overflow: hidden;padding: 0;position: absolute;width: 1px;}#sk-container-id-5 div.sk-estimator {font-family: monospace;background-color: #f0f8ff;border: 1px dotted black;border-radius: 0.25em;box-sizing: border-box;margin-bottom: 0.5em;}#sk-container-id-5 div.sk-estimator:hover {background-color: #d4ebff;}#sk-container-id-5 div.sk-parallel-item::after {content: \"\";width: 100%;border-bottom: 1px solid gray;flex-grow: 1;}#sk-container-id-5 div.sk-label:hover label.sk-toggleable__label {background-color: #d4ebff;}#sk-container-id-5 div.sk-serial::before {content: \"\";position: absolute;border-left: 1px solid gray;box-sizing: border-box;top: 0;bottom: 0;left: 50%;z-index: 0;}#sk-container-id-5 div.sk-serial {display: flex;flex-direction: column;align-items: center;background-color: white;padding-right: 0.2em;padding-left: 0.2em;position: relative;}#sk-container-id-5 div.sk-item {position: relative;z-index: 1;}#sk-container-id-5 div.sk-parallel {display: flex;align-items: stretch;justify-content: center;background-color: white;position: relative;}#sk-container-id-5 div.sk-item::before, #sk-container-id-5 div.sk-parallel-item::before {content: \"\";position: absolute;border-left: 1px solid gray;box-sizing: border-box;top: 0;bottom: 0;left: 50%;z-index: -1;}#sk-container-id-5 div.sk-parallel-item {display: flex;flex-direction: column;z-index: 1;position: relative;background-color: white;}#sk-container-id-5 div.sk-parallel-item:first-child::after {align-self: flex-end;width: 50%;}#sk-container-id-5 div.sk-parallel-item:last-child::after {align-self: flex-start;width: 50%;}#sk-container-id-5 div.sk-parallel-item:only-child::after {width: 0;}#sk-container-id-5 div.sk-dashed-wrapped {border: 1px dashed gray;margin: 0 0.4em 0.5em 0.4em;box-sizing: border-box;padding-bottom: 0.4em;background-color: white;}#sk-container-id-5 div.sk-label label {font-family: monospace;font-weight: bold;display: inline-block;line-height: 1.2em;}#sk-container-id-5 div.sk-label-container {text-align: center;}#sk-container-id-5 div.sk-container {/* jupyter's `normalize.less` sets `[hidden] { display: none; }` but bootstrap.min.css set `[hidden] { display: none !important; }` so we also need the `!important` here to be able to override the default hidden behavior on the sphinx rendered scikit-learn.org. See: https://github.com/scikit-learn/scikit-learn/issues/21755 */display: inline-block !important;position: relative;}#sk-container-id-5 div.sk-text-repr-fallback {display: none;}</style><div id=\"sk-container-id-5\" class=\"sk-top-container\"><div class=\"sk-text-repr-fallback\"><pre>DecisionTreeRegressor()</pre><b>In a Jupyter environment, please rerun this cell to show the HTML representation or trust the notebook. <br />On GitHub, the HTML representation is unable to render, please try loading this page with nbviewer.org.</b></div><div class=\"sk-container\" hidden><div class=\"sk-item\"><div class=\"sk-estimator sk-toggleable\"><input class=\"sk-toggleable__control sk-hidden--visually\" id=\"sk-estimator-id-5\" type=\"checkbox\" checked><label for=\"sk-estimator-id-5\" class=\"sk-toggleable__label sk-toggleable__label-arrow\">DecisionTreeRegressor</label><div class=\"sk-toggleable__content\"><pre>DecisionTreeRegressor()</pre></div></div></div></div></div>"
      ],
      "text/plain": [
       "DecisionTreeRegressor()"
      ]
     },
     "execution_count": 110,
     "metadata": {},
     "output_type": "execute_result"
    }
   ],
   "source": [
    "dt_model.fit(x_train, y_train)"
   ]
  },
  {
   "cell_type": "code",
   "execution_count": 111,
   "id": "9cdd6552",
   "metadata": {},
   "outputs": [],
   "source": [
    "dt_predictions = dt_model.predict(x_test)"
   ]
  },
  {
   "cell_type": "code",
   "execution_count": 112,
   "id": "34211726",
   "metadata": {},
   "outputs": [
    {
     "data": {
      "text/plain": [
       "1.0"
      ]
     },
     "execution_count": 112,
     "metadata": {},
     "output_type": "execute_result"
    }
   ],
   "source": [
    "dt_model.score(x_train,y_train)"
   ]
  },
  {
   "cell_type": "code",
   "execution_count": 113,
   "id": "58a20185",
   "metadata": {},
   "outputs": [
    {
     "data": {
      "text/plain": [
       "0.9435567720252076"
      ]
     },
     "execution_count": 113,
     "metadata": {},
     "output_type": "execute_result"
    }
   ],
   "source": [
    "dt_model.score(x_test,y_test)"
   ]
  },
  {
   "cell_type": "code",
   "execution_count": 114,
   "id": "dfe93836",
   "metadata": {},
   "outputs": [],
   "source": [
    "y_pred1 = dt_model.predict(x_test)"
   ]
  },
  {
   "cell_type": "code",
   "execution_count": 115,
   "id": "095d4323",
   "metadata": {},
   "outputs": [
    {
     "data": {
      "text/plain": [
       "array([ 8400.,  1740.,   160.,  7550.,  1735.,  3000.,  6000.,  9150.,\n",
       "        5800.,  2865.,   375.,  1600.,   860.,   400.,  2065.,  2625.,\n",
       "        1735.,  2100.,  1700.,  1575.,   400.,  4050.,  1500.,   160.,\n",
       "         700.,  1500.,  1950.,  2400.,  1175.,   375.,  1450.,  2690.,\n",
       "        1600.,  2750.,  7000.,  4050.,  4800.,  1900.,  1735.,  4900.,\n",
       "        6425.,  1800.,  3100.,  2750.,  1365.,  4825.,   860.,  3800.,\n",
       "        2350.,  1750.,  1825.,   700.,  1900.,   160.,  5800.,  3900.,\n",
       "        2300.,   690.,   550.,  1175.,  1750.,  4800.,  1150.,  3900.,\n",
       "        4500.,  2200.,  5825.,   160.,   750.,   150.,   160.,  2400.,\n",
       "        1800.,   160.,  9150.,  2400.,  2900.,  2900.,  3000.,   160.,\n",
       "        2400.,  1950.,  5875.,  3500.,   860.,  2690.,   750.,   535.,\n",
       "        1075.,  1735.,  1550.,  3425.,   740.,  9500.,  4200.,  2375.,\n",
       "        1200.,  2425.,  1550.,   375.,  1735.,   160.,   160.,  3825.,\n",
       "         615.,   750.,   160.,   400.,  4125.,   615.,  1175.,  4500.,\n",
       "        1875.,  2750.,  2650.,  6900.,  8400.,   535.,  4500.,  1300.,\n",
       "         500.,  1900.,  4800.,  1600.,   600.,  2975.,   700.,  3450.,\n",
       "        3425.,  2315.,  3000.,   400.,  1200.,   375.,  1350.,  9500.,\n",
       "        2150.,   760.,   375.,  1800.,   375.,  5950.,  1490.,  2425.,\n",
       "        3200.,  1200.,  2625.,  1300.,  3800.,  1750.,  5050.,  1800.,\n",
       "        2750.,  3450.,   600.,  3715.,  1175.,  5350.,  4900.,  1075.,\n",
       "        1100.,  1350.,  1750.,  2550.,  1050.,  1175.,  1575.,  6425.,\n",
       "        5050.,  4490.,  9150.,  3115.,   160.,   400.,  3100.,  1400.,\n",
       "        1875.,   540.,   375.,  2350.,  6000.,  4800.,   160.,  2400.,\n",
       "        6000.,  4050.,  2460.,  3875.,  3750.,   535.,   535.,   535.,\n",
       "         700., 17250.,  3100.,  1825.,  4800.,  1950.,   740.,   515.,\n",
       "        3500.,  1910.,  3115.,  2700.,  4125.,  2400.,   400.,  1600.,\n",
       "         375.,  1825.,   550.,  1750.,   500.,   140.,   750.,   760.,\n",
       "        3450.,  4350.,   750.,  9400.,  6000.,  3450.,  3450.,  3450.,\n",
       "         540.,   160.,   400.,  8550.,   375.,  2300.,  1500.,   150.,\n",
       "        1740.,  2550.,  3900.,  3000.,  2975.,   750.,  1235.,  6425.,\n",
       "        1910.,  2550.,  2100.,   700.,  1600.,  2350.,  2515.,  6000.,\n",
       "        6000.,  1200.])"
      ]
     },
     "execution_count": 115,
     "metadata": {},
     "output_type": "execute_result"
    }
   ],
   "source": [
    "y_pred1"
   ]
  },
  {
   "cell_type": "code",
   "execution_count": 116,
   "id": "2bad98fb",
   "metadata": {},
   "outputs": [
    {
     "data": {
      "text/plain": [
       "Text(0.5, 1.0, 'actual vs predicted ')"
      ]
     },
     "execution_count": 116,
     "metadata": {},
     "output_type": "execute_result"
    },
    {
     "data": {
      "image/png": "[encoded data removed]",
      "text/plain": [
       "<Figure size 1200x800 with 1 Axes>"
      ]
     },
     "metadata": {},
     "output_type": "display_data"
    }
   ],
   "source": [
    "plt.figure(figsize=(12,8))\n",
    "plt.scatter(y_test,y_pred1)\n",
    "plt.xlabel('actual values')\n",
    "plt.ylabel('predicted values')\n",
    "plt.title('actual vs predicted ')"
   ]
  },
  {
   "cell_type": "code",
   "execution_count": 117,
   "id": "c98821c8",
   "metadata": {},
   "outputs": [],
   "source": [
    "dt_mse = mean_squared_error(y_test, dt_predictions)"
   ]
  },
  {
   "cell_type": "code",
   "execution_count": 118,
   "id": "1b4f5654",
   "metadata": {},
   "outputs": [],
   "source": [
    "dt_r2 = r2_score(y_test, dt_predictions)"
   ]
  },
  {
   "cell_type": "code",
   "execution_count": 119,
   "id": "e88bc5d6",
   "metadata": {
    "executionInfo": {
     "elapsed": 86,
     "status": "ok",
     "timestamp": 1652851742365,
     "user": {
      "displayName": "Aniketh H",
      "userId": "11737461681111421407"
     },
     "user_tz": -330
    },
    "id": "e88bc5d6"
   },
   "outputs": [],
   "source": [
    "from sklearn.ensemble import RandomForestRegressor"
   ]
  },
  {
   "cell_type": "code",
   "execution_count": 120,
   "id": "44dbfff9",
   "metadata": {
    "executionInfo": {
     "elapsed": 86,
     "status": "ok",
     "timestamp": 1652851742365,
     "user": {
      "displayName": "Aniketh H",
      "userId": "11737461681111421407"
     },
     "user_tz": -330
    },
    "id": "44dbfff9"
   },
   "outputs": [],
   "source": [
    "rf = RandomForestRegressor()"
   ]
  },
  {
   "cell_type": "code",
   "execution_count": 121,
   "id": "dd539f76",
   "metadata": {
    "colab": {
     "base_uri": "https://localhost:8080/"
    },
    "executionInfo": {
     "elapsed": 86,
     "status": "ok",
     "timestamp": 1652851742366,
     "user": {
      "displayName": "Aniketh H",
      "userId": "11737461681111421407"
     },
     "user_tz": -330
    },
    "id": "dd539f76",
    "outputId": "14458aa8-d248-418e-fb66-52059d60713c"
   },
   "outputs": [
    {
     "data": {
      "text/html": [
       "<style>#sk-container-id-6 {color: black;}#sk-container-id-6 pre{padding: 0;}#sk-container-id-6 div.sk-toggleable {background-color: white;}#sk-container-id-6 label.sk-toggleable__label {cursor: pointer;display: block;width: 100%;margin-bottom: 0;padding: 0.3em;box-sizing: border-box;text-align: center;}#sk-container-id-6 label.sk-toggleable__label-arrow:before {content: \"▸\";float: left;margin-right: 0.25em;color: #696969;}#sk-container-id-6 label.sk-toggleable__label-arrow:hover:before {color: black;}#sk-container-id-6 div.sk-estimator:hover label.sk-toggleable__label-arrow:before {color: black;}#sk-container-id-6 div.sk-toggleable__content {max-height: 0;max-width: 0;overflow: hidden;text-align: left;background-color: #f0f8ff;}#sk-container-id-6 div.sk-toggleable__content pre {margin: 0.2em;color: black;border-radius: 0.25em;background-color: #f0f8ff;}#sk-container-id-6 input.sk-toggleable__control:checked~div.sk-toggleable__content {max-height: 200px;max-width: 100%;overflow: auto;}#sk-container-id-6 input.sk-toggleable__control:checked~label.sk-toggleable__label-arrow:before {content: \"▾\";}#sk-container-id-6 div.sk-estimator input.sk-toggleable__control:checked~label.sk-toggleable__label {background-color: #d4ebff;}#sk-container-id-6 div.sk-label input.sk-toggleable__control:checked~label.sk-toggleable__label {background-color: #d4ebff;}#sk-container-id-6 input.sk-hidden--visually {border: 0;clip: rect(1px 1px 1px 1px);clip: rect(1px, 1px, 1px, 1px);height: 1px;margin: -1px;overflow: hidden;padding: 0;position: absolute;width: 1px;}#sk-container-id-6 div.sk-estimator {font-family: monospace;background-color: #f0f8ff;border: 1px dotted black;border-radius: 0.25em;box-sizing: border-box;margin-bottom: 0.5em;}#sk-container-id-6 div.sk-estimator:hover {background-color: #d4ebff;}#sk-container-id-6 div.sk-parallel-item::after {content: \"\";width: 100%;border-bottom: 1px solid gray;flex-grow: 1;}#sk-container-id-6 div.sk-label:hover label.sk-toggleable__label {background-color: #d4ebff;}#sk-container-id-6 div.sk-serial::before {content: \"\";position: absolute;border-left: 1px solid gray;box-sizing: border-box;top: 0;bottom: 0;left: 50%;z-index: 0;}#sk-container-id-6 div.sk-serial {display: flex;flex-direction: column;align-items: center;background-color: white;padding-right: 0.2em;padding-left: 0.2em;position: relative;}#sk-container-id-6 div.sk-item {position: relative;z-index: 1;}#sk-container-id-6 div.sk-parallel {display: flex;align-items: stretch;justify-content: center;background-color: white;position: relative;}#sk-container-id-6 div.sk-item::before, #sk-container-id-6 div.sk-parallel-item::before {content: \"\";position: absolute;border-left: 1px solid gray;box-sizing: border-box;top: 0;bottom: 0;left: 50%;z-index: -1;}#sk-container-id-6 div.sk-parallel-item {display: flex;flex-direction: column;z-index: 1;position: relative;background-color: white;}#sk-container-id-6 div.sk-parallel-item:first-child::after {align-self: flex-end;width: 50%;}#sk-container-id-6 div.sk-parallel-item:last-child::after {align-self: flex-start;width: 50%;}#sk-container-id-6 div.sk-parallel-item:only-child::after {width: 0;}#sk-container-id-6 div.sk-dashed-wrapped {border: 1px dashed gray;margin: 0 0.4em 0.5em 0.4em;box-sizing: border-box;padding-bottom: 0.4em;background-color: white;}#sk-container-id-6 div.sk-label label {font-family: monospace;font-weight: bold;display: inline-block;line-height: 1.2em;}#sk-container-id-6 div.sk-label-container {text-align: center;}#sk-container-id-6 div.sk-container {/* jupyter's `normalize.less` sets `[hidden] { display: none; }` but bootstrap.min.css set `[hidden] { display: none !important; }` so we also need the `!important` here to be able to override the default hidden behavior on the sphinx rendered scikit-learn.org. See: https://github.com/scikit-learn/scikit-learn/issues/21755 */display: inline-block !important;position: relative;}#sk-container-id-6 div.sk-text-repr-fallback {display: none;}</style><div id=\"sk-container-id-6\" class=\"sk-top-container\"><div class=\"sk-text-repr-fallback\"><pre>RandomForestRegressor()</pre><b>In a Jupyter environment, please rerun this cell to show the HTML representation or trust the notebook. <br />On GitHub, the HTML representation is unable to render, please try loading this page with nbviewer.org.</b></div><div class=\"sk-container\" hidden><div class=\"sk-item\"><div class=\"sk-estimator sk-toggleable\"><input class=\"sk-toggleable__control sk-hidden--visually\" id=\"sk-estimator-id-6\" type=\"checkbox\" checked><label for=\"sk-estimator-id-6\" class=\"sk-toggleable__label sk-toggleable__label-arrow\">RandomForestRegressor</label><div class=\"sk-toggleable__content\"><pre>RandomForestRegressor()</pre></div></div></div></div></div>"
      ],
      "text/plain": [
       "RandomForestRegressor()"
      ]
     },
     "execution_count": 121,
     "metadata": {},
     "output_type": "execute_result"
    }
   ],
   "source": [
    "rf.fit(x_train,y_train)"
   ]
  },
  {
   "cell_type": "code",
   "execution_count": 122,
   "id": "acc28618",
   "metadata": {
    "executionInfo": {
     "elapsed": 85,
     "status": "ok",
     "timestamp": 1652851742367,
     "user": {
      "displayName": "Aniketh H",
      "userId": "11737461681111421407"
     },
     "user_tz": -330
    },
    "id": "acc28618"
   },
   "outputs": [],
   "source": [
    "rf_predictions = rf.predict(x_test)"
   ]
  },
  {
   "cell_type": "code",
   "execution_count": 123,
   "id": "ee65b61d",
   "metadata": {
    "colab": {
     "base_uri": "https://localhost:8080/"
    },
    "executionInfo": {
     "elapsed": 85,
     "status": "ok",
     "timestamp": 1652851742367,
     "user": {
      "displayName": "Aniketh H",
      "userId": "11737461681111421407"
     },
     "user_tz": -330
    },
    "id": "ee65b61d",
    "outputId": "255a70b0-fd27-4920-ac36-4d74145b900a"
   },
   "outputs": [
    {
     "data": {
      "text/plain": [
       "0.9932405464654005"
      ]
     },
     "execution_count": 123,
     "metadata": {},
     "output_type": "execute_result"
    }
   ],
   "source": [
    "rf.score(x_train,y_train)"
   ]
  },
  {
   "cell_type": "code",
   "execution_count": 124,
   "id": "fbb19ba3",
   "metadata": {
    "colab": {
     "base_uri": "https://localhost:8080/"
    },
    "executionInfo": {
     "elapsed": 84,
     "status": "ok",
     "timestamp": 1652851742368,
     "user": {
      "displayName": "Aniketh H",
      "userId": "11737461681111421407"
     },
     "user_tz": -330
    },
    "id": "fbb19ba3",
    "outputId": "ff6585ff-6ca0-4eea-99d8-4f356d51e935"
   },
   "outputs": [
    {
     "data": {
      "text/plain": [
       "0.947072565465169"
      ]
     },
     "execution_count": 124,
     "metadata": {},
     "output_type": "execute_result"
    }
   ],
   "source": [
    "rf.score(x_test,y_test)"
   ]
  },
  {
   "cell_type": "code",
   "execution_count": 125,
   "id": "62f655a0",
   "metadata": {
    "executionInfo": {
     "elapsed": 81,
     "status": "ok",
     "timestamp": 1652851742368,
     "user": {
      "displayName": "Aniketh H",
      "userId": "11737461681111421407"
     },
     "user_tz": -330
    },
    "id": "62f655a0"
   },
   "outputs": [],
   "source": [
    "y_pred1 = rf.predict(x_test)"
   ]
  },
  {
   "cell_type": "code",
   "execution_count": 126,
   "id": "748a37ea",
   "metadata": {
    "colab": {
     "base_uri": "https://localhost:8080/"
    },
    "executionInfo": {
     "elapsed": 82,
     "status": "ok",
     "timestamp": 1652851742369,
     "user": {
      "displayName": "Aniketh H",
      "userId": "11737461681111421407"
     },
     "user_tz": -330
    },
    "id": "748a37ea",
    "outputId": "b60ea0c4-f527-4b45-96ec-3220eab95f99"
   },
   "outputs": [
    {
     "data": {
      "text/plain": [
       "array([ 8197.75,  1717.1 ,   160.  ,  6712.95,  1735.  ,  2969.7 ,\n",
       "        6376.6 ,  8853.75,  4662.65,  2833.6 ,   375.  ,  1600.  ,\n",
       "         860.  ,   400.  ,  2065.  ,  2596.95,  1735.  ,  2044.  ,\n",
       "        1683.  ,  1569.65,   400.  ,  4044.75,  1502.4 ,   160.  ,\n",
       "         700.  ,  1502.4 ,  2008.35,  2448.  ,  1175.  ,   375.  ,\n",
       "        1502.35,  2601.7 ,  1642.  ,  2750.  ,  6726.  ,  5086.65,\n",
       "        4812.  ,  1900.  ,  1735.  ,  5238.  ,  6404.6 ,  1852.5 ,\n",
       "        3116.5 ,  2653.8 ,  1366.4 ,  4839.95,   860.  ,  3861.5 ,\n",
       "        2400.5 ,  1682.  ,  1825.  ,   700.  ,  1900.  ,   160.  ,\n",
       "        4662.65,  3928.  ,  2455.  ,   685.5 ,   550.  ,  1175.  ,\n",
       "        1750.  ,  6111.75,  1146.8 ,  3789.  ,  4353.  ,  2211.  ,\n",
       "        6565.5 ,   160.  ,   825.9 ,   150.  ,   160.  ,  2478.75,\n",
       "        1763.  ,   160.  ,  8190.  ,  2372.  ,  3143.05,  3145.25,\n",
       "        3462.3 ,   279.6 ,  2372.  ,  1973.75,  5413.65,  3512.  ,\n",
       "         860.  ,  2587.6 ,   750.  ,   535.  ,  1063.1 ,  1735.  ,\n",
       "        1523.9 ,  3421.25,   735.8 , 10689.35,  4261.  ,  2395.3 ,\n",
       "        1200.  ,  2414.2 ,  1550.  ,   375.  ,  1735.  ,   160.  ,\n",
       "         160.  ,  3801.75,   615.  ,   750.  ,   160.  ,   400.  ,\n",
       "        4146.75,   615.  ,  1175.  ,  4353.  ,  1961.95,  2653.8 ,\n",
       "        2326.1 ,  6902.5 ,  7831.  ,   535.  ,  5063.5 ,  1354.35,\n",
       "         502.15,  1931.7 ,  4812.  ,  1601.4 ,   596.4 ,  2972.75,\n",
       "         700.  ,  3650.65,  3421.25,  1996.5 ,  3462.3 ,   400.  ,\n",
       "        1200.  ,   375.  ,  1375.4 , 10689.35,  2060.5 ,   761.1 ,\n",
       "         375.  ,  1852.5 ,   375.  ,  5863.  ,  1516.05,  2413.4 ,\n",
       "        3136.  ,  1200.  ,  2596.95,  1298.65,  3861.5 ,  1750.  ,\n",
       "        5019.3 ,  1852.5 ,  2750.  ,  3450.  ,   596.4 ,  3472.15,\n",
       "        1175.  ,  6245.75,  5238.  ,  1063.1 ,  1100.25,  1375.4 ,\n",
       "        1750.  ,  2555.15,  1098.3 ,  1175.  ,  1569.65,  6404.6 ,\n",
       "        4495.25,  4111.8 ,  8853.75,  3112.2 ,   160.  ,   400.  ,\n",
       "        2969.15,  1400.  ,  1961.95,   540.7 ,   375.  ,  2392.  ,\n",
       "        6376.6 ,  4812.  ,   160.  ,  2406.  ,  6090.  ,  4044.75,\n",
       "        2488.75,  3503.5 ,  3767.8 ,   535.  ,   535.  ,   535.  ,\n",
       "         700.  , 16390.5 ,  3481.75,  1825.  ,  6096.25,  1973.75,\n",
       "         735.8 ,   495.4 ,  3500.  ,  1473.8 ,  3112.2 ,  2738.6 ,\n",
       "        4146.75,  2406.  ,   400.  ,  1601.4 ,   375.  ,  1825.  ,\n",
       "         550.  ,  1758.  ,   502.15,   140.  ,   750.  ,   761.1 ,\n",
       "        3450.  ,  5363.25,   825.9 ,  7932.7 ,  5932.5 ,  3450.  ,\n",
       "        3450.  ,  3474.  ,   540.7 ,   160.  ,   400.  ,  6945.5 ,\n",
       "         375.  ,  2831.65,  1509.25,   150.  ,  1717.1 ,  2347.8 ,\n",
       "        3929.5 ,  2995.35,  2972.75,   750.  ,  1201.35,  6404.6 ,\n",
       "        1473.8 ,  2475.25,  2044.  ,   700.  ,  1600.  ,  2408.  ,\n",
       "        2530.  ,  6376.6 ,  6376.6 ,  1200.  ])"
      ]
     },
     "execution_count": 126,
     "metadata": {},
     "output_type": "execute_result"
    }
   ],
   "source": [
    "y_pred1"
   ]
  },
  {
   "cell_type": "code",
   "execution_count": 127,
   "id": "fb0d8f8e",
   "metadata": {
    "colab": {
     "base_uri": "https://localhost:8080/",
     "height": 500
    },
    "executionInfo": {
     "elapsed": 612,
     "status": "ok",
     "timestamp": 1652851742901,
     "user": {
      "displayName": "Aniketh H",
      "userId": "11737461681111421407"
     },
     "user_tz": -330
    },
    "id": "fb0d8f8e",
    "outputId": "fecdbb36-bed6-4a23-bb80-afb7ddc5d441"
   },
   "outputs": [
    {
     "data": {
      "text/plain": [
       "Text(0.5, 1.0, 'actual vs predicted ')"
      ]
     },
     "execution_count": 127,
     "metadata": {},
     "output_type": "execute_result"
    },
    {
     "data": {
      "image/png": "[encoded data removed]",
      "text/plain": [
       "<Figure size 1200x800 with 1 Axes>"
      ]
     },
     "metadata": {},
     "output_type": "display_data"
    }
   ],
   "source": [
    "plt.figure(figsize=(12,8))\n",
    "plt.scatter(y_test,y_pred1)\n",
    "plt.xlabel('actual values')\n",
    "plt.ylabel('predicted values')\n",
    "plt.title('actual vs predicted ')"
   ]
  },
  {
   "cell_type": "code",
   "execution_count": 128,
   "id": "25bf2e80",
   "metadata": {},
   "outputs": [],
   "source": [
    "rf_mse = mean_squared_error(y_test, rf_predictions)"
   ]
  },
  {
   "cell_type": "code",
   "execution_count": 129,
   "id": "bb2c1848",
   "metadata": {},
   "outputs": [],
   "source": [
    "rf_r2 = r2_score(y_test, rf_predictions)"
   ]
  },
  {
   "cell_type": "code",
   "execution_count": 130,
   "id": "098dde06",
   "metadata": {
    "colab": {
     "base_uri": "https://localhost:8080/"
    },
    "executionInfo": {
     "elapsed": 24,
     "status": "ok",
     "timestamp": 1652851742903,
     "user": {
      "displayName": "Aniketh H",
      "userId": "11737461681111421407"
     },
     "user_tz": -330
    },
    "id": "098dde06",
    "outputId": "890b81f7-d275-400c-f4e1-c2c93ace90e2"
   },
   "outputs": [
    {
     "name": "stdout",
     "output_type": "stream",
     "text": [
      "Linear Regression MSE: 8.323059011765887e-24\n",
      "Decision Tree MSE: 343107.4\n",
      "Random Forest MSE: 321735.57579000003\n",
      "Linear Regression R-squared: 1.0\n",
      "Decision Tree R-squared: 0.9435567720252076\n",
      "Random Forest R-squared: 0.947072565465169\n"
     ]
    }
   ],
   "source": [
    "# Print the evaluation results\n",
    "print(\"Linear Regression MSE:\", lr_mse)\n",
    "print(\"Decision Tree MSE:\", dt_mse)\n",
    "print(\"Random Forest MSE:\", rf_mse)\n",
    "print(\"Linear Regression R-squared:\", lr_r2)\n",
    "print(\"Decision Tree R-squared:\", dt_r2)\n",
    "print(\"Random Forest R-squared:\", rf_r2)\n"
   ]
  },
  {
   "cell_type": "code",
   "execution_count": null,
   "id": "3cbae3bf",
   "metadata": {},
   "outputs": [],
   "source": [
    "                                                 "
   ]
  },
  {
   "cell_type": "code",
   "execution_count": null,
   "id": "3d03a1d8",
   "metadata": {},
   "outputs": [],
   "source": []
  }
 ],
 "metadata": {
  "colab": {
   "collapsed_sections": [],
   "name": "Adarsh .ipynb",
   "provenance": []
  },
  "kernelspec": {
   "display_name": "Python 3 (ipykernel)",
   "language": "python",
   "name": "python3"
  },
  "language_info": {
   "codemirror_mode": {
    "name": "ipython",
    "version": 3
   },
   "file_extension": ".py",
   "mimetype": "text/x-python",
   "name": "python",
   "nbconvert_exporter": "python",
   "pygments_lexer": "ipython3",
   "version": "3.11.5"
  }
 },
 "nbformat": 4,
 "nbformat_minor": 5
}
